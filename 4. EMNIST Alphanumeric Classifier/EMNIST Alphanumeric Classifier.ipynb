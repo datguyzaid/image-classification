{
 "cells": [
  {
   "cell_type": "markdown",
   "id": "detailed-livestock",
   "metadata": {},
   "source": [
    "# Import Necessary Modules"
   ]
  },
  {
   "cell_type": "code",
   "execution_count": 1,
   "id": "immediate-arbitration",
   "metadata": {},
   "outputs": [],
   "source": [
    "import os\n",
    "import numpy as np\n",
    "import matplotlib.pyplot as plt\n",
    "from pandas import read_csv\n",
    "from sklearn.metrics import classification_report, confusion_matrix\n",
    "from tensorflow.keras.preprocessing import image as Image\n",
    "from tensorflow.keras.models import Sequential\n",
    "from tensorflow.keras.callbacks import ModelCheckpoint, EarlyStopping\n",
    "from tensorflow.keras.layers import Conv2D, Dense, Dropout, Flatten, MaxPooling2D\n",
    "from tensorflow.keras.optimizers import Adam"
   ]
  },
  {
   "cell_type": "markdown",
   "id": "medium-underwear",
   "metadata": {},
   "source": [
    "# Load the 'EMNIST Balanced' Dataset & Examine it\n",
    "Download the EMNIST Balanced dataset from https://www.kaggle.com/datasets/crawford/emnist "
   ]
  },
  {
   "cell_type": "code",
   "execution_count": 2,
   "id": "declared-thinking",
   "metadata": {},
   "outputs": [
    {
     "name": "stdout",
     "output_type": "stream",
     "text": [
      "Number of images in our training data: 112799\n",
      "Number of labels in our training data: 112799\n",
      "Number of images in our validation data: 18799\n",
      "Number of labels in our validation data: 18799\n",
      "\n",
      "Dimensions of x_train: (112799, 784)\n",
      "Dimensions of x_val: (18799, 784)\n"
     ]
    }
   ],
   "source": [
    "# Load the EMNIST(Balanced) dataset from CSV files\n",
    "train = read_csv(\n",
    "    \"./Datasets/emnist-balanced-train.csv\", delimiter=',')\n",
    "val = read_csv(\n",
    "    \"./Datasets/emnist-balanced-val.csv\", delimiter=',')\n",
    "class_mapping = read_csv(\"./Datasets/emnist-balanced-mapping.txt\", delimiter=' ',\n",
    "                         index_col=0, header=None, squeeze=True)\n",
    "\n",
    "# Split the training and validation datasets into x(images) & y(labels)\n",
    "x_train = train.iloc[:, 1:]\n",
    "y_train = train.iloc[:, 0]\n",
    "del train\n",
    "x_val = val.iloc[:, 1:]\n",
    "y_val = val.iloc[:, 0]\n",
    "del val\n",
    "\n",
    "print(\"Number of images in our training data: \" + str(len(x_train)))\n",
    "print(\"Number of labels in our training data: \" + str(len(y_train)))\n",
    "print(\"Number of images in our validation data: \" + str(len(x_val)))\n",
    "print(\"Number of labels in our validation data: \" + str(len(y_val)))\n",
    "print()\n",
    "print(\"Dimensions of x_train: \" + str(x_train.shape))\n",
    "print(\"Dimensions of x_val: \" + str(x_val.shape))"
   ]
  },
  {
   "cell_type": "markdown",
   "id": "catholic-slope",
   "metadata": {},
   "source": [
    "# Preprocessing Our Image Datasets i.e x_train & x_val"
   ]
  },
  {
   "cell_type": "markdown",
   "id": "american-highway",
   "metadata": {},
   "source": [
    "**Define a function that will resize, flip(left to right) & rotate the input image**"
   ]
  },
  {
   "cell_type": "code",
   "execution_count": 3,
   "id": "built-purple",
   "metadata": {},
   "outputs": [],
   "source": [
    "# Define a function that will resize, flip(left to right) & rotate the input image\n",
    "def resize_flip_rotate(image):\n",
    "    image = image.reshape([28, 28])\n",
    "    image = np.fliplr(image)\n",
    "    image = np.rot90(image)\n",
    "    return image"
   ]
  },
  {
   "cell_type": "markdown",
   "id": "whole-handbook",
   "metadata": {},
   "source": [
    "## Perform the Preprocessing"
   ]
  },
  {
   "cell_type": "code",
   "execution_count": 4,
   "id": "south-spencer",
   "metadata": {},
   "outputs": [],
   "source": [
    "# -> Resize, flip & rotate training images\n",
    "x_train = np.asarray(x_train)\n",
    "x_train = np.apply_along_axis(resize_flip_rotate, 1, x_train)\n",
    "x_val = np.asarray(x_val)\n",
    "x_val = np.apply_along_axis(resize_flip_rotate, 1, x_val)\n",
    "\n",
    "# Add a fourth column that indicates number of channels of the images present within the dataset\n",
    "x_train = x_train.reshape(-1, 28, 28, 1)\n",
    "x_val = x_val.reshape(-1, 28, 28, 1)\n",
    "\n",
    "# -> Change our image data type to float32 data type\n",
    "x_train = x_train.astype('float32')\n",
    "x_val = x_val.astype('float32')\n",
    "\n",
    "# Normalize our data by changing the range from (0 to 255) to (0 to 1)\n",
    "x_train /= 255\n",
    "x_val /= 255"
   ]
  },
  {
   "cell_type": "markdown",
   "id": "southeast-dover",
   "metadata": {},
   "source": [
    "# Build a Model"
   ]
  },
  {
   "cell_type": "markdown",
   "id": "consecutive-pitch",
   "metadata": {},
   "source": [
    "## Create a Model"
   ]
  },
  {
   "cell_type": "code",
   "execution_count": 5,
   "id": "commercial-timber",
   "metadata": {},
   "outputs": [
    {
     "name": "stdout",
     "output_type": "stream",
     "text": [
      "Model: \"sequential\"\n",
      "_________________________________________________________________\n",
      "Layer (type)                 Output Shape              Param #   \n",
      "=================================================================\n",
      "conv2d (Conv2D)              (None, 28, 28, 32)        320       \n",
      "_________________________________________________________________\n",
      "max_pooling2d (MaxPooling2D) (None, 14, 14, 32)        0         \n",
      "_________________________________________________________________\n",
      "conv2d_1 (Conv2D)            (None, 14, 14, 64)        18496     \n",
      "_________________________________________________________________\n",
      "max_pooling2d_1 (MaxPooling2 (None, 7, 7, 64)          0         \n",
      "_________________________________________________________________\n",
      "conv2d_2 (Conv2D)            (None, 7, 7, 128)         73856     \n",
      "_________________________________________________________________\n",
      "max_pooling2d_2 (MaxPooling2 (None, 3, 3, 128)         0         \n",
      "_________________________________________________________________\n",
      "conv2d_3 (Conv2D)            (None, 3, 3, 256)         295168    \n",
      "_________________________________________________________________\n",
      "max_pooling2d_3 (MaxPooling2 (None, 1, 1, 256)         0         \n",
      "_________________________________________________________________\n",
      "flatten (Flatten)            (None, 256)               0         \n",
      "_________________________________________________________________\n",
      "dense (Dense)                (None, 256)               65792     \n",
      "_________________________________________________________________\n",
      "dropout (Dropout)            (None, 256)               0         \n",
      "_________________________________________________________________\n",
      "dense_1 (Dense)              (None, 47)                12079     \n",
      "=================================================================\n",
      "Total params: 465,711\n",
      "Trainable params: 465,711\n",
      "Non-trainable params: 0\n",
      "_________________________________________________________________\n",
      "None\n"
     ]
    }
   ],
   "source": [
    "# Initalize the model using Sequential class from Keras\n",
    "model = Sequential()\n",
    "# Add first convolutional layer\n",
    "model.add(Conv2D(filters=32, kernel_size=(3, 3), activation='relu',\n",
    "                 input_shape=(28, 28, 1), padding=\"same\"))\n",
    "# Add a pooling layer which will downsample our data\n",
    "model.add(MaxPooling2D(pool_size=(2, 2)))\n",
    "# Add 2nd convolutional layer\n",
    "model.add(Conv2D(filters=64, kernel_size=(3, 3),\n",
    "                 activation='relu', padding=\"same\"))\n",
    "# Add a pooling layer which will downsample our data\n",
    "model.add(MaxPooling2D(pool_size=(2, 2)))\n",
    "# Add 3rd convolutional layer\n",
    "model.add(Conv2D(filters=128, kernel_size=(\n",
    "    3, 3), activation='relu', padding=\"same\"))\n",
    "# Add a pooling layer which will downsample our data\n",
    "model.add(MaxPooling2D(pool_size=(2, 2)))\n",
    "# Add 4th convolutional layer\n",
    "model.add(Conv2D(filters=256, kernel_size=(\n",
    "    3, 3), activation='relu', padding=\"same\"))\n",
    "# Add a pooling layer which will downsample our data\n",
    "model.add(MaxPooling2D(pool_size=(2, 2)))\n",
    "# Add a flatten layer which will aid in flattening the input\n",
    "model.add(Flatten())\n",
    "# Add a dense/FC layer\n",
    "model.add(Dense(units=256, activation='relu'))\n",
    "# Add a droput layer which will aid in regularization\n",
    "model.add(Dropout(0.5))\n",
    "# Add a dense/FC layer\n",
    "model.add(Dense(units=47, activation='softmax'))\n",
    "# Compile the model\n",
    "model.compile(loss='sparse_categorical_crossentropy',\n",
    "              optimizer=Adam(),\n",
    "              metrics=['accuracy'])\n",
    "# Print a summary of our model\n",
    "print(model.summary())"
   ]
  },
  {
   "cell_type": "markdown",
   "id": "express-billion",
   "metadata": {},
   "source": [
    "## Define Callbacks"
   ]
  },
  {
   "cell_type": "code",
   "execution_count": 6,
   "id": "patient-republican",
   "metadata": {},
   "outputs": [],
   "source": [
    "# Define a callback for saving only the best model during the training\n",
    "checkpoint = ModelCheckpoint(filepath=\"./Trained Models/emnist_balanced_alphanum_classifier.h5\",\n",
    "                             monitor='val_accuracy',\n",
    "                             mode='max',\n",
    "                             save_best_only=True,\n",
    "                             verbose=1)\n",
    "\n",
    "# Define a callback to stop training when validation accuracy has stopped increasing\n",
    "earlystop = EarlyStopping(monitor='val_accuracy',\n",
    "                          mode='max',\n",
    "                          patience=3,\n",
    "                          restore_best_weights=True,\n",
    "                          verbose=1)\n",
    "\n",
    "# Put our callbacks into a list\n",
    "callbacks = [earlystop, checkpoint]"
   ]
  },
  {
   "cell_type": "markdown",
   "id": "copyrighted-receptor",
   "metadata": {},
   "source": [
    "# Train the Model"
   ]
  },
  {
   "cell_type": "code",
   "execution_count": 7,
   "id": "angry-harvest",
   "metadata": {},
   "outputs": [
    {
     "name": "stdout",
     "output_type": "stream",
     "text": [
      "Epoch 1/100\n",
      "\n",
      "Epoch 00001: val_accuracy improved from -inf to 0.86217, saving model to ./Trained Models\\emnist_balanced_alphanum_classifier.h5\n",
      "3525/3525 - 22s - loss: 0.7288 - accuracy: 0.7682 - val_loss: 0.3969 - val_accuracy: 0.8622\n",
      "Epoch 2/100\n",
      "\n",
      "Epoch 00002: val_accuracy improved from 0.86217 to 0.87287, saving model to ./Trained Models\\emnist_balanced_alphanum_classifier.h5\n",
      "3525/3525 - 22s - loss: 0.3997 - accuracy: 0.8605 - val_loss: 0.3634 - val_accuracy: 0.8729\n",
      "Epoch 3/100\n",
      "\n",
      "Epoch 00003: val_accuracy improved from 0.87287 to 0.88180, saving model to ./Trained Models\\emnist_balanced_alphanum_classifier.h5\n",
      "3525/3525 - 22s - loss: 0.3529 - accuracy: 0.8741 - val_loss: 0.3391 - val_accuracy: 0.8818\n",
      "Epoch 4/100\n",
      "\n",
      "Epoch 00004: val_accuracy improved from 0.88180 to 0.88382, saving model to ./Trained Models\\emnist_balanced_alphanum_classifier.h5\n",
      "3525/3525 - 23s - loss: 0.3196 - accuracy: 0.8836 - val_loss: 0.3382 - val_accuracy: 0.8838\n",
      "Epoch 5/100\n",
      "\n",
      "Epoch 00005: val_accuracy improved from 0.88382 to 0.88616, saving model to ./Trained Models\\emnist_balanced_alphanum_classifier.h5\n",
      "3525/3525 - 23s - loss: 0.2983 - accuracy: 0.8910 - val_loss: 0.3349 - val_accuracy: 0.8862\n",
      "Epoch 6/100\n",
      "\n",
      "Epoch 00006: val_accuracy did not improve from 0.88616\n",
      "3525/3525 - 23s - loss: 0.2779 - accuracy: 0.8962 - val_loss: 0.3415 - val_accuracy: 0.8817\n",
      "Epoch 7/100\n",
      "\n",
      "Epoch 00007: val_accuracy did not improve from 0.88616\n",
      "3525/3525 - 23s - loss: 0.2618 - accuracy: 0.9009 - val_loss: 0.3430 - val_accuracy: 0.8852\n",
      "Epoch 8/100\n",
      "Restoring model weights from the end of the best epoch.\n",
      "\n",
      "Epoch 00008: val_accuracy did not improve from 0.88616\n",
      "3525/3525 - 23s - loss: 0.2498 - accuracy: 0.9036 - val_loss: 0.3519 - val_accuracy: 0.8838\n",
      "Epoch 00008: early stopping\n"
     ]
    }
   ],
   "source": [
    "# Train our model and store the training results in a variable\n",
    "model_train_result = model.fit(x=x_train,\n",
    "                               y=y_train,\n",
    "                               batch_size=32,\n",
    "                               epochs=100,\n",
    "                               callbacks=callbacks,\n",
    "                               verbose=2,\n",
    "                               validation_data=(x_val, y_val))"
   ]
  },
  {
   "cell_type": "markdown",
   "id": "monthly-border",
   "metadata": {},
   "source": [
    "# Evaluate Model's Performance"
   ]
  },
  {
   "cell_type": "markdown",
   "id": "romance-entertainment",
   "metadata": {},
   "source": [
    "## Loss & Accuracy Charts"
   ]
  },
  {
   "cell_type": "markdown",
   "id": "accessory-nowhere",
   "metadata": {},
   "source": [
    "### Loss Chart"
   ]
  },
  {
   "cell_type": "code",
   "execution_count": 8,
   "id": "controlled-tours",
   "metadata": {},
   "outputs": [
    {
     "data": {
      "image/png": "[encoded data removed]",
      "text/plain": [
       "<Figure size 432x288 with 1 Axes>"
      ]
     },
     "metadata": {
      "needs_background": "light"
     },
     "output_type": "display_data"
    }
   ],
   "source": [
    "history_dict = model_train_result.history\n",
    "\n",
    "loss_values = history_dict['loss']\n",
    "val_loss_values = history_dict['val_loss']\n",
    "epochs = range(1, len(loss_values) + 1)\n",
    "\n",
    "line1 = plt.plot(epochs, val_loss_values, label='Validation/Test Loss')\n",
    "line2 = plt.plot(epochs, loss_values, label='Training Loss')\n",
    "plt.setp(line1, linewidth=2.0, marker='+', markersize=10.0)\n",
    "plt.setp(line2, linewidth=2.0, marker='4', markersize=10.0)\n",
    "plt.xlabel('Epochs')\n",
    "plt.ylabel('Loss')\n",
    "plt.grid(True)\n",
    "plt.legend()\n",
    "plt.show()"
   ]
  },
  {
   "cell_type": "markdown",
   "id": "dental-prime",
   "metadata": {},
   "source": [
    "### Accuracy Chart"
   ]
  },
  {
   "cell_type": "code",
   "execution_count": 9,
   "id": "driving-permit",
   "metadata": {
    "scrolled": false
   },
   "outputs": [
    {
     "data": {
      "image/png": "[encoded data removed]",
      "text/plain": [
       "<Figure size 432x288 with 1 Axes>"
      ]
     },
     "metadata": {
      "needs_background": "light"
     },
     "output_type": "display_data"
    }
   ],
   "source": [
    "history_dict = model_train_result.history\n",
    "\n",
    "acc_values = history_dict['accuracy']\n",
    "val_acc_values = history_dict['val_accuracy']\n",
    "epochs = range(1, len(loss_values) + 1)\n",
    "\n",
    "line1 = plt.plot(epochs, val_acc_values, label='Validation/Test Accuracy')\n",
    "line2 = plt.plot(epochs, acc_values, label='Training Accuracy')\n",
    "plt.setp(line1, linewidth=2.0, marker='+', markersize=10.0)\n",
    "plt.setp(line2, linewidth=2.0, marker='4', markersize=10.0)\n",
    "plt.xlabel('Epochs')\n",
    "plt.ylabel('Accuracy')\n",
    "plt.grid(True)\n",
    "plt.legend()\n",
    "plt.show()"
   ]
  },
  {
   "cell_type": "markdown",
   "id": "composite-valentine",
   "metadata": {},
   "source": [
    "## Classification Report for Validation Dataset"
   ]
  },
  {
   "cell_type": "code",
   "execution_count": 10,
   "id": "institutional-deficit",
   "metadata": {},
   "outputs": [
    {
     "name": "stdout",
     "output_type": "stream",
     "text": [
      "              precision    recall  f1-score   support\n",
      "\n",
      "           0       0.68      0.67      0.67       400\n",
      "           1       0.57      0.67      0.62       400\n",
      "           2       0.90      0.90      0.90       400\n",
      "           3       0.99      0.99      0.99       400\n",
      "           4       0.92      0.94      0.93       400\n",
      "           5       0.96      0.91      0.93       400\n",
      "           6       0.95      0.91      0.93       400\n",
      "           7       0.96      0.99      0.98       400\n",
      "           8       0.93      0.95      0.94       400\n",
      "           9       0.66      0.83      0.74       400\n",
      "          10       0.97      0.98      0.98       400\n",
      "          11       0.95      0.97      0.96       400\n",
      "          12       0.96      0.96      0.96       400\n",
      "          13       0.93      0.93      0.93       400\n",
      "          14       0.98      0.98      0.98       400\n",
      "          15       0.71      0.57      0.63       400\n",
      "          16       0.96      0.93      0.95       400\n",
      "          17       0.97      0.98      0.98       400\n",
      "          18       0.76      0.58      0.66       400\n",
      "          19       0.96      0.94      0.95       400\n",
      "          20       0.99      0.96      0.98       400\n",
      "          21       0.57      0.61      0.59       400\n",
      "          22       0.98      0.98      0.98       400\n",
      "          23       0.94      0.98      0.96       400\n",
      "          24       0.68      0.72      0.70       400\n",
      "          25       0.96      0.97      0.97       400\n",
      "          26       0.94      0.94      0.94       400\n",
      "          27       0.94      0.98      0.96       400\n",
      "          28       0.89      0.94      0.92       400\n",
      "          29       0.92      0.94      0.93       400\n",
      "          30       0.95      0.90      0.93       400\n",
      "          31       0.92      0.93      0.92       400\n",
      "          32       0.98      0.98      0.98       400\n",
      "          33       0.99      0.96      0.97       400\n",
      "          34       0.94      0.92      0.93       400\n",
      "          35       0.90      0.92      0.91       400\n",
      "          36       0.92      0.90      0.91       400\n",
      "          37       0.92      0.94      0.93       400\n",
      "          38       0.97      0.97      0.97       400\n",
      "          39       0.98      0.97      0.98       400\n",
      "          40       0.63      0.71      0.67       400\n",
      "          41       0.80      0.60      0.69       399\n",
      "          42       0.95      0.94      0.95       400\n",
      "          43       0.94      0.93      0.93       400\n",
      "          44       0.64      0.60      0.62       400\n",
      "          45       0.92      0.95      0.94       400\n",
      "          46       0.92      0.90      0.91       400\n",
      "\n",
      "    accuracy                           0.89     18799\n",
      "   macro avg       0.89      0.89      0.89     18799\n",
      "weighted avg       0.89      0.89      0.89     18799\n",
      "\n"
     ]
    }
   ],
   "source": [
    "# Get model's predictions for each image in validation dataset\n",
    "val_pred = model.predict(x_val, batch_size=32)\n",
    "val_pred = np.argmax(val_pred, axis=1)\n",
    "\n",
    "# Get class names\n",
    "class_names = np.arange(start=0, stop=47, dtype='int64')\n",
    "class_names = list(map(str, class_names))\n",
    "\n",
    "# Get the classification report generated for validation dataset\n",
    "print(classification_report(y_true=y_val,\n",
    "                            y_pred=val_pred, target_names=class_names))"
   ]
  },
  {
   "cell_type": "markdown",
   "id": "atomic-serial",
   "metadata": {},
   "source": [
    "## Confusion Matrix for Validation Dataset"
   ]
  },
  {
   "cell_type": "code",
   "execution_count": 11,
   "id": "possible-speech",
   "metadata": {},
   "outputs": [
    {
     "data": {
      "image/png": "[encoded data removed]",
      "text/plain": [
       "<Figure size 1440x1440 with 2 Axes>"
      ]
     },
     "metadata": {
      "needs_background": "light"
     },
     "output_type": "display_data"
    }
   ],
   "source": [
    "# Generate the confusion matrix for validation dataset\n",
    "cnf_matrix = confusion_matrix(y_true=y_val, y_pred=val_pred)\n",
    "\n",
    "# Display the confusion matrix\n",
    "plt.figure(figsize=(20, 20))\n",
    "plt.imshow(cnf_matrix, interpolation='nearest')\n",
    "plt.colorbar()\n",
    "tick_marks = np.arange(len(class_names))\n",
    "_ = plt.xticks(tick_marks, class_names, rotation=90)\n",
    "_ = plt.yticks(tick_marks, class_names)"
   ]
  }
 ],
 "metadata": {
  "kernelspec": {
   "display_name": "Python 3",
   "language": "python",
   "name": "python3"
  },
  "language_info": {
   "codemirror_mode": {
    "name": "ipython",
    "version": 3
   },
   "file_extension": ".py",
   "mimetype": "text/x-python",
   "name": "python",
   "nbconvert_exporter": "python",
   "pygments_lexer": "ipython3",
   "version": "3.7.10"
  },
  "toc": {
   "base_numbering": 1,
   "nav_menu": {},
   "number_sections": true,
   "sideBar": true,
   "skip_h1_title": false,
   "title_cell": "Table of Contents",
   "title_sidebar": "Contents",
   "toc_cell": false,
   "toc_position": {},
   "toc_section_display": true,
   "toc_window_display": false
  },
  "varInspector": {
   "cols": {
    "lenName": 16,
    "lenType": 16,
    "lenVar": 40
   },
   "kernels_config": {
    "python": {
     "delete_cmd_postfix": "",
     "delete_cmd_prefix": "del ",
     "library": "var_list.py",
     "varRefreshCmd": "print(var_dic_list())"
    },
    "r": {
     "delete_cmd_postfix": ") ",
     "delete_cmd_prefix": "rm(",
     "library": "var_list.r",
     "varRefreshCmd": "cat(var_dic_list()) "
    }
   },
   "position": {
    "height": "511.215px",
    "left": "1763.33px",
    "right": "20px",
    "top": "120px",
    "width": "350px"
   },
   "types_to_exclude": [
    "module",
    "function",
    "builtin_function_or_method",
    "instance",
    "_Feature"
   ],
   "window_display": false
  }
 },
 "nbformat": 4,
 "nbformat_minor": 5
}
