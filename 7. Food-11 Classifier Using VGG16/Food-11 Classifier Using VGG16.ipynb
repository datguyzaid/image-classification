{
 "cells": [
  {
   "cell_type": "markdown",
   "id": "8cfa12c9",
   "metadata": {},
   "source": [
    "# Import Necessary Modules"
   ]
  },
  {
   "cell_type": "code",
   "execution_count": 1,
   "id": "a3545cc2",
   "metadata": {},
   "outputs": [],
   "source": [
    "import os\n",
    "import pickle\n",
    "import numpy as np\n",
    "import matplotlib.pyplot as plt\n",
    "from sklearn.linear_model import LogisticRegression\n",
    "from sklearn.metrics import accuracy_score\n",
    "from tensorflow.python.keras.utils import np_utils\n",
    "from tensorflow.keras.preprocessing.image import load_img, img_to_array\n",
    "from tensorflow.keras.applications import VGG16\n",
    "from tensorflow.keras.applications.vgg16 import preprocess_input\n",
    "from tensorflow.keras.models import Sequential\n",
    "from tensorflow.keras.callbacks import ModelCheckpoint, EarlyStopping\n",
    "from tensorflow.keras.layers import GlobalAveragePooling2D, Dense, Dropout\n",
    "from tensorflow.keras.optimizers import Adam"
   ]
  },
  {
   "cell_type": "markdown",
   "id": "ef1322fe",
   "metadata": {},
   "source": [
    "# Load the 'Food-11' Dataset & Examine It\n",
    "Download the Food-11 dataset from https://www.kaggle.com/datasets/trolukovich/food11-image-dataset"
   ]
  },
  {
   "cell_type": "code",
   "execution_count": 2,
   "id": "ab2d894b",
   "metadata": {},
   "outputs": [
    {
     "name": "stdout",
     "output_type": "stream",
     "text": [
      "No. of classes:  11\n",
      "No. of training images:  9866\n",
      "No. of validation images:  3430\n",
      "No. of test images:  3347\n"
     ]
    }
   ],
   "source": [
    "# Read the image paths\n",
    "train_img_paths = [os.path.join(\"Dataset\\\\training\", img)\n",
    "                   for img in os.listdir(\"Dataset\\\\training\")]\n",
    "val_img_paths = [os.path.join(\"Dataset\\\\validation\", img)\n",
    "                 for img in os.listdir(\"Dataset\\\\validation\")]\n",
    "test_img_paths = [os.path.join(\"Dataset\\\\test\", img)\n",
    "                  for img in os.listdir(\"Dataset\\\\test\")]\n",
    "\n",
    "num_classes = 11\n",
    "\n",
    "print(\"No. of classes: \", num_classes)\n",
    "print(\"No. of training images: \", len(train_img_paths))\n",
    "print(\"No. of validation images: \", len(val_img_paths))\n",
    "print(\"No. of test images: \", len(test_img_paths))"
   ]
  },
  {
   "cell_type": "code",
   "execution_count": 3,
   "id": "db4e5e22",
   "metadata": {},
   "outputs": [],
   "source": [
    "# Create class labels\n",
    "train_labels = [int(img.split(\"\\\\\")[-1].split(\"_\")[0])\n",
    "                for img in train_img_paths]\n",
    "val_labels = [int(img.split(\"\\\\\")[-1].split(\"_\")[0]) for img in val_img_paths]\n",
    "test_labels = [int(img.split(\"\\\\\")[-1].split(\"_\")[0])\n",
    "               for img in test_img_paths]\n",
    "\n",
    "# Convert class labels in one hot encoded vector\n",
    "train_labels_encoded = np_utils.to_categorical(train_labels, num_classes)\n",
    "val_labels_encoded = np_utils.to_categorical(val_labels, num_classes)\n",
    "test_labels_encoded = np_utils.to_categorical(test_labels, num_classes)"
   ]
  },
  {
   "cell_type": "code",
   "execution_count": 4,
   "id": "1bc8f771",
   "metadata": {
    "scrolled": false
   },
   "outputs": [
    {
     "name": "stdout",
     "output_type": "stream",
     "text": [
      "Training data available in 11 classes\n",
      "[994, 429, 1500, 986, 848, 1325, 440, 280, 855, 1500, 709]\n"
     ]
    },
    {
     "data": {
      "image/png": "[encoded data removed]",
      "text/plain": [
       "<Figure size 640x480 with 1 Axes>"
      ]
     },
     "metadata": {},
     "output_type": "display_data"
    }
   ],
   "source": [
    "# Training data class distribution\n",
    "print('Training data available in 11 classes')\n",
    "counts = [train_labels.count(i) for i in range(0,11)]\n",
    "print(counts)\n",
    "\n",
    "food_classes = ('Bread', 'Dairy product', 'Dessert', 'Egg', 'Fried food', 'Meat',\n",
    "                'Noodles/Pasta', 'Rice', 'Seafood', 'Soup', 'Vegetable/Fruit')\n",
    "\n",
    "y_pos = np.arange(len(food_classes))\n",
    "\n",
    "plt.barh(y_pos, counts, align='center', alpha=0.5)\n",
    "plt.yticks(y_pos, food_classes)\n",
    "plt.xlabel('Counts')\n",
    "plt.title('Train Data Class Distribution')\n",
    "plt.show()"
   ]
  },
  {
   "cell_type": "code",
   "execution_count": 5,
   "id": "4e309a93",
   "metadata": {},
   "outputs": [
    {
     "name": "stdout",
     "output_type": "stream",
     "text": [
      "Validation data available in 11 classes\n",
      "[362, 144, 500, 327, 326, 449, 147, 96, 347, 500, 232]\n",
      "\n",
      "Test data available in 11 classes\n",
      "[368, 148, 500, 335, 287, 432, 147, 96, 303, 500, 231]\n"
     ]
    }
   ],
   "source": [
    "# Validation & test data class distributions\n",
    "print('Validation data available in 11 classes')\n",
    "print([val_labels.count(i) for i in range(0,11)])\n",
    "print()\n",
    "print('Test data available in 11 classes')\n",
    "print([test_labels.count(i) for i in range(0,11)])"
   ]
  },
  {
   "cell_type": "markdown",
   "id": "19cc0659",
   "metadata": {},
   "source": [
    "# Feature Extraction From VGG16"
   ]
  },
  {
   "cell_type": "code",
   "execution_count": 6,
   "id": "7b58d25c",
   "metadata": {},
   "outputs": [
    {
     "name": "stdout",
     "output_type": "stream",
     "text": [
      "Model: \"vgg16\"\n",
      "_________________________________________________________________\n",
      "Layer (type)                 Output Shape              Param #   \n",
      "=================================================================\n",
      "input_1 (InputLayer)         [(None, 224, 224, 3)]     0         \n",
      "_________________________________________________________________\n",
      "block1_conv1 (Conv2D)        (None, 224, 224, 64)      1792      \n",
      "_________________________________________________________________\n",
      "block1_conv2 (Conv2D)        (None, 224, 224, 64)      36928     \n",
      "_________________________________________________________________\n",
      "block1_pool (MaxPooling2D)   (None, 112, 112, 64)      0         \n",
      "_________________________________________________________________\n",
      "block2_conv1 (Conv2D)        (None, 112, 112, 128)     73856     \n",
      "_________________________________________________________________\n",
      "block2_conv2 (Conv2D)        (None, 112, 112, 128)     147584    \n",
      "_________________________________________________________________\n",
      "block2_pool (MaxPooling2D)   (None, 56, 56, 128)       0         \n",
      "_________________________________________________________________\n",
      "block3_conv1 (Conv2D)        (None, 56, 56, 256)       295168    \n",
      "_________________________________________________________________\n",
      "block3_conv2 (Conv2D)        (None, 56, 56, 256)       590080    \n",
      "_________________________________________________________________\n",
      "block3_conv3 (Conv2D)        (None, 56, 56, 256)       590080    \n",
      "_________________________________________________________________\n",
      "block3_pool (MaxPooling2D)   (None, 28, 28, 256)       0         \n",
      "_________________________________________________________________\n",
      "block4_conv1 (Conv2D)        (None, 28, 28, 512)       1180160   \n",
      "_________________________________________________________________\n",
      "block4_conv2 (Conv2D)        (None, 28, 28, 512)       2359808   \n",
      "_________________________________________________________________\n",
      "block4_conv3 (Conv2D)        (None, 28, 28, 512)       2359808   \n",
      "_________________________________________________________________\n",
      "block4_pool (MaxPooling2D)   (None, 14, 14, 512)       0         \n",
      "_________________________________________________________________\n",
      "block5_conv1 (Conv2D)        (None, 14, 14, 512)       2359808   \n",
      "_________________________________________________________________\n",
      "block5_conv2 (Conv2D)        (None, 14, 14, 512)       2359808   \n",
      "_________________________________________________________________\n",
      "block5_conv3 (Conv2D)        (None, 14, 14, 512)       2359808   \n",
      "_________________________________________________________________\n",
      "block5_pool (MaxPooling2D)   (None, 7, 7, 512)         0         \n",
      "=================================================================\n",
      "Total params: 14,714,688\n",
      "Trainable params: 14,714,688\n",
      "Non-trainable params: 0\n",
      "_________________________________________________________________\n"
     ]
    }
   ],
   "source": [
    "# Load the VGG16 pre-trained model without the top FC layers\n",
    "model = VGG16(input_shape=(224, 224, 3),\n",
    "              include_top=False,\n",
    "              weights=\"imagenet\")\n",
    "\n",
    "# Print a summary of our model\n",
    "model.summary()"
   ]
  },
  {
   "cell_type": "code",
   "execution_count": 7,
   "id": "6c9c35b9",
   "metadata": {},
   "outputs": [],
   "source": [
    "# Define a function that will extract features of each image in the dataset using a pre-trained model\n",
    "def extract_features(dataset, pretrained_model):\n",
    "    \n",
    "    # Define an array that will store a list of preprocessed images\n",
    "    preprocessed_images = []\n",
    " \n",
    "    # Loop over the images\n",
    "    for image_path in dataset: \n",
    "        # Load the input image \n",
    "        image = load_img(image_path, target_size=(224, 224))\n",
    "        # Resize it to 224x224 pixels\n",
    "        image = img_to_array(image)\n",
    "        # Expand image dimensions\n",
    "        image = np.expand_dims(image, axis=0)\n",
    "        # Perform the necessary preprocessing as required by VGG16 model\n",
    "        image = preprocess_input(image)\n",
    "        # Add the image to the batch\n",
    "        preprocessed_images.append(image)\n",
    "\n",
    "    # Stack the sequence of images vertically inorder to make a single array\n",
    "    preprocessed_images = np.vstack(preprocessed_images)\n",
    "    # Extract features from the last layer of the pre-trained model\n",
    "    features = pretrained_model.predict(preprocessed_images, batch_size=32)\n",
    "    # Flatten the extracted features\n",
    "    features_flattened = features.reshape((features.shape[0], 7 * 7 * 512))\n",
    "    return preprocessed_images, features, features_flattened"
   ]
  },
  {
   "cell_type": "code",
   "execution_count": 8,
   "id": "ff95cdbd",
   "metadata": {},
   "outputs": [],
   "source": [
    "# Extract features for each image in training, validation & test datasets using the pre-trained VGG16 model\n",
    "train_images, train_features, train_features_flattened = extract_features(train_img_paths, model)\n",
    "val_images, val_features, val_features_flattened = extract_features(val_img_paths, model)\n",
    "test_images, test_features, test_features_flattened = extract_features(test_img_paths, model)"
   ]
  },
  {
   "cell_type": "markdown",
   "id": "04f284e3",
   "metadata": {},
   "source": [
    "# Transfer Learning Using Extracted Features"
   ]
  },
  {
   "cell_type": "markdown",
   "id": "6f994dba",
   "metadata": {},
   "source": [
    "## Using a Shallow Neural Network Model"
   ]
  },
  {
   "cell_type": "markdown",
   "id": "3d17f09d",
   "metadata": {},
   "source": [
    "### Build the Model"
   ]
  },
  {
   "cell_type": "code",
   "execution_count": 9,
   "id": "d1ce0d52",
   "metadata": {},
   "outputs": [
    {
     "name": "stdout",
     "output_type": "stream",
     "text": [
      "Model: \"sequential\"\n",
      "_________________________________________________________________\n",
      "Layer (type)                 Output Shape              Param #   \n",
      "=================================================================\n",
      "global_average_pooling2d (Gl (None, 512)               0         \n",
      "_________________________________________________________________\n",
      "dropout (Dropout)            (None, 512)               0         \n",
      "_________________________________________________________________\n",
      "dense (Dense)                (None, 100)               51300     \n",
      "_________________________________________________________________\n",
      "dense_1 (Dense)              (None, 11)                1111      \n",
      "=================================================================\n",
      "Total params: 52,411\n",
      "Trainable params: 52,411\n",
      "Non-trainable params: 0\n",
      "_________________________________________________________________\n",
      "None\n"
     ]
    }
   ],
   "source": [
    "# Initalize the model using Sequential class from Keras\n",
    "nn_model = Sequential()\n",
    "# Add a pooling layer which will downsample our data\n",
    "nn_model.add(GlobalAveragePooling2D(input_shape=train_features.shape[1:]))\n",
    "# Add a droput layer which will aid in regularization\n",
    "nn_model.add(Dropout(0.2))\n",
    "# Add a dense/FC layer\n",
    "nn_model.add(Dense(100, activation='relu'))\n",
    "# Add a dense/FC layer\n",
    "nn_model.add(Dense(11, activation='softmax'))\n",
    "# Compile the model\n",
    "nn_model.compile(loss='categorical_crossentropy', \n",
    "                       optimizer=Adam(),\n",
    "                       metrics=['accuracy'])\n",
    "# Print a summary of our model\n",
    "print(nn_model.summary())"
   ]
  },
  {
   "cell_type": "markdown",
   "id": "cdfc15e3",
   "metadata": {},
   "source": [
    "### Define Callbacks"
   ]
  },
  {
   "cell_type": "code",
   "execution_count": 10,
   "id": "6c811154",
   "metadata": {},
   "outputs": [],
   "source": [
    "# Define a callback for saving only the best model during the training\n",
    "checkpoint = ModelCheckpoint(filepath=\"./Trained Models/food11_nn_classifier.h5\",\n",
    "                             monitor='val_accuracy',\n",
    "                             mode='max',\n",
    "                             save_best_only=True,\n",
    "                             verbose=1)\n",
    "\n",
    "# Define a callback to stop training when validation accuracy has stopped increasing\n",
    "earlystop = EarlyStopping(monitor='val_accuracy',\n",
    "                          mode='max',\n",
    "                          patience=5,\n",
    "                          restore_best_weights=True,\n",
    "                          verbose=1)\n",
    "\n",
    "# Put our callbacks into a list\n",
    "callbacks = [earlystop, checkpoint]"
   ]
  },
  {
   "cell_type": "markdown",
   "id": "da88299b",
   "metadata": {},
   "source": [
    "### Train the Model"
   ]
  },
  {
   "cell_type": "code",
   "execution_count": 11,
   "id": "c416dc19",
   "metadata": {},
   "outputs": [
    {
     "name": "stdout",
     "output_type": "stream",
     "text": [
      "Epoch 1/100\n",
      "309/309 [==============================] - 3s 9ms/step - loss: 3.4588 - accuracy: 0.4651 - val_loss: 0.8968 - val_accuracy: 0.7222\n",
      "\n",
      "Epoch 00001: val_accuracy improved from -inf to 0.72216, saving model to ./Trained Models\\food11_nn_classifier.h5\n",
      "Epoch 2/100\n",
      "309/309 [==============================] - 2s 5ms/step - loss: 0.9472 - accuracy: 0.7001 - val_loss: 0.7007 - val_accuracy: 0.7741\n",
      "\n",
      "Epoch 00002: val_accuracy improved from 0.72216 to 0.77405, saving model to ./Trained Models\\food11_nn_classifier.h5\n",
      "Epoch 3/100\n",
      "309/309 [==============================] - 1s 5ms/step - loss: 0.7489 - accuracy: 0.7571 - val_loss: 0.6315 - val_accuracy: 0.7953\n",
      "\n",
      "Epoch 00003: val_accuracy improved from 0.77405 to 0.79534, saving model to ./Trained Models\\food11_nn_classifier.h5\n",
      "Epoch 4/100\n",
      "309/309 [==============================] - 1s 5ms/step - loss: 0.6480 - accuracy: 0.7883 - val_loss: 0.5987 - val_accuracy: 0.8117\n",
      "\n",
      "Epoch 00004: val_accuracy improved from 0.79534 to 0.81166, saving model to ./Trained Models\\food11_nn_classifier.h5\n",
      "Epoch 5/100\n",
      "309/309 [==============================] - 1s 5ms/step - loss: 0.5811 - accuracy: 0.8039 - val_loss: 0.5932 - val_accuracy: 0.8079\n",
      "\n",
      "Epoch 00005: val_accuracy did not improve from 0.81166\n",
      "Epoch 6/100\n",
      "309/309 [==============================] - 1s 5ms/step - loss: 0.5147 - accuracy: 0.8281 - val_loss: 0.5870 - val_accuracy: 0.8085\n",
      "\n",
      "Epoch 00006: val_accuracy did not improve from 0.81166\n",
      "Epoch 7/100\n",
      "309/309 [==============================] - 1s 5ms/step - loss: 0.5079 - accuracy: 0.8282 - val_loss: 0.5458 - val_accuracy: 0.8216\n",
      "\n",
      "Epoch 00007: val_accuracy improved from 0.81166 to 0.82157, saving model to ./Trained Models\\food11_nn_classifier.h5\n",
      "Epoch 8/100\n",
      "309/309 [==============================] - 1s 5ms/step - loss: 0.4830 - accuracy: 0.8351 - val_loss: 0.5609 - val_accuracy: 0.8140\n",
      "\n",
      "Epoch 00008: val_accuracy did not improve from 0.82157\n",
      "Epoch 9/100\n",
      "309/309 [==============================] - 1s 5ms/step - loss: 0.4306 - accuracy: 0.8509 - val_loss: 0.5386 - val_accuracy: 0.8312\n",
      "\n",
      "Epoch 00009: val_accuracy improved from 0.82157 to 0.83120, saving model to ./Trained Models\\food11_nn_classifier.h5\n",
      "Epoch 10/100\n",
      "309/309 [==============================] - 1s 5ms/step - loss: 0.4151 - accuracy: 0.8549 - val_loss: 0.5569 - val_accuracy: 0.8236\n",
      "\n",
      "Epoch 00010: val_accuracy did not improve from 0.83120\n",
      "Epoch 11/100\n",
      "309/309 [==============================] - 1s 5ms/step - loss: 0.4049 - accuracy: 0.8638 - val_loss: 0.5352 - val_accuracy: 0.8350\n",
      "\n",
      "Epoch 00011: val_accuracy improved from 0.83120 to 0.83499, saving model to ./Trained Models\\food11_nn_classifier.h5\n",
      "Epoch 12/100\n",
      "309/309 [==============================] - 1s 5ms/step - loss: 0.3878 - accuracy: 0.8653 - val_loss: 0.5379 - val_accuracy: 0.8297\n",
      "\n",
      "Epoch 00012: val_accuracy did not improve from 0.83499\n",
      "Epoch 13/100\n",
      "309/309 [==============================] - 1s 5ms/step - loss: 0.3817 - accuracy: 0.8670 - val_loss: 0.5250 - val_accuracy: 0.8356\n",
      "\n",
      "Epoch 00013: val_accuracy improved from 0.83499 to 0.83557, saving model to ./Trained Models\\food11_nn_classifier.h5\n",
      "Epoch 14/100\n",
      "309/309 [==============================] - 1s 5ms/step - loss: 0.3399 - accuracy: 0.8798 - val_loss: 0.5566 - val_accuracy: 0.8303\n",
      "\n",
      "Epoch 00014: val_accuracy did not improve from 0.83557\n",
      "Epoch 15/100\n",
      "309/309 [==============================] - 1s 5ms/step - loss: 0.3677 - accuracy: 0.8768 - val_loss: 0.5412 - val_accuracy: 0.8286\n",
      "\n",
      "Epoch 00015: val_accuracy did not improve from 0.83557\n",
      "Epoch 16/100\n",
      "309/309 [==============================] - 1s 5ms/step - loss: 0.3411 - accuracy: 0.8842 - val_loss: 0.5504 - val_accuracy: 0.8259\n",
      "\n",
      "Epoch 00016: val_accuracy did not improve from 0.83557\n",
      "Epoch 17/100\n",
      "309/309 [==============================] - 1s 5ms/step - loss: 0.3239 - accuracy: 0.8851 - val_loss: 0.5183 - val_accuracy: 0.8394\n",
      "\n",
      "Epoch 00017: val_accuracy improved from 0.83557 to 0.83936, saving model to ./Trained Models\\food11_nn_classifier.h5\n",
      "Epoch 18/100\n",
      "309/309 [==============================] - 1s 5ms/step - loss: 0.3211 - accuracy: 0.8906 - val_loss: 0.5389 - val_accuracy: 0.8359\n",
      "\n",
      "Epoch 00018: val_accuracy did not improve from 0.83936\n",
      "Epoch 19/100\n",
      "309/309 [==============================] - 1s 5ms/step - loss: 0.3114 - accuracy: 0.8884 - val_loss: 0.5798 - val_accuracy: 0.8294\n",
      "\n",
      "Epoch 00019: val_accuracy did not improve from 0.83936\n",
      "Epoch 20/100\n",
      "309/309 [==============================] - 1s 5ms/step - loss: 0.2950 - accuracy: 0.8975 - val_loss: 0.5662 - val_accuracy: 0.8362\n",
      "\n",
      "Epoch 00020: val_accuracy did not improve from 0.83936\n",
      "Epoch 21/100\n",
      "309/309 [==============================] - 1s 5ms/step - loss: 0.2833 - accuracy: 0.9002 - val_loss: 0.6037 - val_accuracy: 0.8306\n",
      "\n",
      "Epoch 00021: val_accuracy did not improve from 0.83936\n",
      "Epoch 22/100\n",
      "309/309 [==============================] - 1s 5ms/step - loss: 0.2905 - accuracy: 0.9024 - val_loss: 0.5551 - val_accuracy: 0.8329\n",
      "Restoring model weights from the end of the best epoch.\n",
      "\n",
      "Epoch 00022: val_accuracy did not improve from 0.83936\n",
      "Epoch 00022: early stopping\n"
     ]
    }
   ],
   "source": [
    "nn_model_train_result = nn_model.fit(x=train_features,\n",
    "                                     y=train_labels_encoded,\n",
    "                                     batch_size=32,\n",
    "                                     epochs=100,\n",
    "                                     callbacks=callbacks,\n",
    "                                     validation_data=(val_features, val_labels_encoded),\n",
    "                                     shuffle=True)"
   ]
  },
  {
   "cell_type": "markdown",
   "id": "7be195f1",
   "metadata": {},
   "source": [
    "### Evaluate the Model on Test Dataset"
   ]
  },
  {
   "cell_type": "code",
   "execution_count": 12,
   "id": "e20e9875",
   "metadata": {
    "scrolled": true
   },
   "outputs": [
    {
     "name": "stdout",
     "output_type": "stream",
     "text": [
      "Accuracy on Test Data:  0.8625634896922617\n",
      "Number of correctly identified imagees(out of 3347): 2887\n"
     ]
    }
   ],
   "source": [
    "preds = np.argmax(nn_model.predict(test_features), axis=1)\n",
    "print(\"Accuracy on Test Data: \", accuracy_score(test_labels, preds))\n",
    "print(\"Number of correctly identified imagees(out of 3347):\",\n",
    "      accuracy_score(test_labels, preds, normalize=False))"
   ]
  },
  {
   "cell_type": "markdown",
   "id": "7df893ba",
   "metadata": {},
   "source": [
    "## Using a Logistic Regression Model"
   ]
  },
  {
   "cell_type": "markdown",
   "id": "4943c822",
   "metadata": {},
   "source": [
    "### Build & Train the Model"
   ]
  },
  {
   "cell_type": "code",
   "execution_count": 13,
   "id": "315b3cf0",
   "metadata": {},
   "outputs": [
    {
     "data": {
      "text/plain": [
       "LogisticRegression(class_weight='balanced', max_iter=5000)"
      ]
     },
     "execution_count": 13,
     "metadata": {},
     "output_type": "execute_result"
    }
   ],
   "source": [
    "# Build the model\n",
    "lr_model = LogisticRegression(class_weight='balanced', max_iter=5000)\n",
    "\n",
    "# Train the model\n",
    "lr_model.fit(train_features_flattened, train_labels)"
   ]
  },
  {
   "cell_type": "markdown",
   "id": "153a92c1",
   "metadata": {},
   "source": [
    "### Evaluate the Model on Validation Dataset"
   ]
  },
  {
   "cell_type": "code",
   "execution_count": 14,
   "id": "5f3a9ecd",
   "metadata": {},
   "outputs": [
    {
     "name": "stdout",
     "output_type": "stream",
     "text": [
      "Accuracy on Validation Data:  0.8233236151603499\n",
      "Number of correctly identified imagees(out of 3347): 2824\n"
     ]
    }
   ],
   "source": [
    "preds = lr_model.predict(val_features_flattened)\n",
    "print(\"Accuracy on Validation Data: \", accuracy_score(val_labels, preds))\n",
    "print(\"Number of correctly identified images(out of 3430):\",\n",
    "      accuracy_score(val_labels, preds, normalize=False))"
   ]
  },
  {
   "cell_type": "markdown",
   "id": "78bc5b67",
   "metadata": {},
   "source": [
    "### Save the Model"
   ]
  },
  {
   "cell_type": "code",
   "execution_count": 15,
   "id": "120e304e",
   "metadata": {},
   "outputs": [],
   "source": [
    "# Serialize the model to disk\n",
    "f = open(file=\"./Trained Models/food11_lr_classifier.pickle\", mode=\"wb\")\n",
    "f.write(pickle.dumps(lr_model))\n",
    "f.close()"
   ]
  },
  {
   "cell_type": "markdown",
   "id": "b7ec1bb2",
   "metadata": {},
   "source": [
    "### Evaluate the Model on Test Dataset"
   ]
  },
  {
   "cell_type": "code",
   "execution_count": 16,
   "id": "b7f53680",
   "metadata": {},
   "outputs": [
    {
     "name": "stdout",
     "output_type": "stream",
     "text": [
      "Accuracy on Test Data:  0.8497161637287123\n",
      "Number of correctly identified imagees(out of 3347): 2844\n"
     ]
    }
   ],
   "source": [
    "preds = lr_model.predict(test_features_flattened)\n",
    "print(\"Accuracy on Test Data: \", accuracy_score(test_labels, preds))\n",
    "print(\"Number of correctly identified images(out of 3347):\",\n",
    "      accuracy_score(test_labels, preds, normalize=False))"
   ]
  }
 ],
 "metadata": {
  "kernelspec": {
   "display_name": "Python 3",
   "language": "python",
   "name": "python3"
  },
  "language_info": {
   "codemirror_mode": {
    "name": "ipython",
    "version": 3
   },
   "file_extension": ".py",
   "mimetype": "text/x-python",
   "name": "python",
   "nbconvert_exporter": "python",
   "pygments_lexer": "ipython3",
   "version": "3.8.10"
  },
  "toc": {
   "base_numbering": 1,
   "nav_menu": {},
   "number_sections": true,
   "sideBar": true,
   "skip_h1_title": false,
   "title_cell": "Table of Contents",
   "title_sidebar": "Contents",
   "toc_cell": false,
   "toc_position": {},
   "toc_section_display": true,
   "toc_window_display": false
  },
  "varInspector": {
   "cols": {
    "lenName": 16,
    "lenType": 16,
    "lenVar": 40
   },
   "kernels_config": {
    "python": {
     "delete_cmd_postfix": "",
     "delete_cmd_prefix": "del ",
     "library": "var_list.py",
     "varRefreshCmd": "print(var_dic_list())"
    },
    "r": {
     "delete_cmd_postfix": ") ",
     "delete_cmd_prefix": "rm(",
     "library": "var_list.r",
     "varRefreshCmd": "cat(var_dic_list()) "
    }
   },
   "types_to_exclude": [
    "module",
    "function",
    "builtin_function_or_method",
    "instance",
    "_Feature"
   ],
   "window_display": false
  }
 },
 "nbformat": 4,
 "nbformat_minor": 5
}
