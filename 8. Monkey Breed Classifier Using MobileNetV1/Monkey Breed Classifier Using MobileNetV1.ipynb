{
 "cells": [
  {
   "cell_type": "markdown",
   "id": "detailed-livestock",
   "metadata": {},
   "source": [
    "# Import Necessary Modules"
   ]
  },
  {
   "cell_type": "code",
   "execution_count": 1,
   "id": "20f45239",
   "metadata": {},
   "outputs": [],
   "source": [
    "import os\n",
    "import numpy as np\n",
    "import matplotlib.pyplot as plt\n",
    "import cv2\n",
    "from sklearn.metrics import classification_report, confusion_matrix\n",
    "from tensorflow.keras.preprocessing.image import ImageDataGenerator\n",
    "from tensorflow.keras.applications import MobileNet\n",
    "from tensorflow.keras.applications.mobilenet import preprocess_input\n",
    "from tensorflow.keras import Model\n",
    "from tensorflow.keras.callbacks import ModelCheckpoint, EarlyStopping\n",
    "from tensorflow.keras.layers import Dense, GlobalAveragePooling2D\n",
    "from tensorflow.keras.optimizers import Adam"
   ]
  },
  {
   "cell_type": "markdown",
   "id": "medium-underwear",
   "metadata": {},
   "source": [
    "# Load the '10 Monkey Species' Dataset\n",
    "Download the 10 Moneky Species dataset from https://www.kaggle.com/datasets/slothkong/10-monkey-species"
   ]
  },
  {
   "cell_type": "markdown",
   "id": "figured-greeting",
   "metadata": {},
   "source": [
    "## Create Data Generator Objects"
   ]
  },
  {
   "cell_type": "code",
   "execution_count": 2,
   "id": "passive-manhattan",
   "metadata": {},
   "outputs": [],
   "source": [
    "# Create a Data Generator object for training dataset\n",
    "train_datagen = ImageDataGenerator(rotation_range=45,\n",
    "                                   width_shift_range=0.3,\n",
    "                                   height_shift_range=0.3,\n",
    "                                   horizontal_flip=True,\n",
    "                                   rescale=1./255)\n",
    "\n",
    "# Create a Data Generator object for validation dataset\n",
    "val_datagen = ImageDataGenerator(rescale=1./255)"
   ]
  },
  {
   "cell_type": "markdown",
   "id": "quantitative-christianity",
   "metadata": {},
   "source": [
    "## Load the Training & Validation Datasets"
   ]
  },
  {
   "cell_type": "code",
   "execution_count": 3,
   "id": "spare-violation",
   "metadata": {},
   "outputs": [
    {
     "name": "stdout",
     "output_type": "stream",
     "text": [
      "Found 1098 images belonging to 10 classes.\n",
      "Found 272 images belonging to 10 classes.\n"
     ]
    }
   ],
   "source": [
    "batch_size = 32\n",
    "\n",
    "# Load the training dataset\n",
    "train_generator = train_datagen.flow_from_directory(\n",
    "    directory='./Dataset/training/',\n",
    "    target_size=(224, 224),\n",
    "    batch_size=batch_size,\n",
    "    class_mode='categorical',\n",
    "    shuffle=True)\n",
    "\n",
    "# Load the validation dataset\n",
    "val_generator = val_datagen.flow_from_directory(\n",
    "    directory='./Dataset/validation/',\n",
    "    target_size=(224, 224),\n",
    "    batch_size=batch_size,\n",
    "    class_mode='categorical',\n",
    "    shuffle=False)\n",
    "\n",
    "# Store no of images present in training & validation datasets\n",
    "nb_train_samples = train_generator.samples\n",
    "nb_val_samples = val_generator.samples"
   ]
  },
  {
   "cell_type": "markdown",
   "id": "8b7c1a4d",
   "metadata": {},
   "source": [
    "# Build a Model Using MobileNetV1"
   ]
  },
  {
   "cell_type": "markdown",
   "id": "7421a788",
   "metadata": {},
   "source": [
    "## Prepare a Base Model"
   ]
  },
  {
   "cell_type": "code",
   "execution_count": 4,
   "id": "0b456208",
   "metadata": {},
   "outputs": [
    {
     "name": "stdout",
     "output_type": "stream",
     "text": [
      "Model: \"mobilenet_1.00_224\"\n",
      "_________________________________________________________________\n",
      "Layer (type)                 Output Shape              Param #   \n",
      "=================================================================\n",
      "input_1 (InputLayer)         [(None, 224, 224, 3)]     0         \n",
      "_________________________________________________________________\n",
      "conv1 (Conv2D)               (None, 112, 112, 32)      864       \n",
      "_________________________________________________________________\n",
      "conv1_bn (BatchNormalization (None, 112, 112, 32)      128       \n",
      "_________________________________________________________________\n",
      "conv1_relu (ReLU)            (None, 112, 112, 32)      0         \n",
      "_________________________________________________________________\n",
      "conv_dw_1 (DepthwiseConv2D)  (None, 112, 112, 32)      288       \n",
      "_________________________________________________________________\n",
      "conv_dw_1_bn (BatchNormaliza (None, 112, 112, 32)      128       \n",
      "_________________________________________________________________\n",
      "conv_dw_1_relu (ReLU)        (None, 112, 112, 32)      0         \n",
      "_________________________________________________________________\n",
      "conv_pw_1 (Conv2D)           (None, 112, 112, 64)      2048      \n",
      "_________________________________________________________________\n",
      "conv_pw_1_bn (BatchNormaliza (None, 112, 112, 64)      256       \n",
      "_________________________________________________________________\n",
      "conv_pw_1_relu (ReLU)        (None, 112, 112, 64)      0         \n",
      "_________________________________________________________________\n",
      "conv_pad_2 (ZeroPadding2D)   (None, 113, 113, 64)      0         \n",
      "_________________________________________________________________\n",
      "conv_dw_2 (DepthwiseConv2D)  (None, 56, 56, 64)        576       \n",
      "_________________________________________________________________\n",
      "conv_dw_2_bn (BatchNormaliza (None, 56, 56, 64)        256       \n",
      "_________________________________________________________________\n",
      "conv_dw_2_relu (ReLU)        (None, 56, 56, 64)        0         \n",
      "_________________________________________________________________\n",
      "conv_pw_2 (Conv2D)           (None, 56, 56, 128)       8192      \n",
      "_________________________________________________________________\n",
      "conv_pw_2_bn (BatchNormaliza (None, 56, 56, 128)       512       \n",
      "_________________________________________________________________\n",
      "conv_pw_2_relu (ReLU)        (None, 56, 56, 128)       0         \n",
      "_________________________________________________________________\n",
      "conv_dw_3 (DepthwiseConv2D)  (None, 56, 56, 128)       1152      \n",
      "_________________________________________________________________\n",
      "conv_dw_3_bn (BatchNormaliza (None, 56, 56, 128)       512       \n",
      "_________________________________________________________________\n",
      "conv_dw_3_relu (ReLU)        (None, 56, 56, 128)       0         \n",
      "_________________________________________________________________\n",
      "conv_pw_3 (Conv2D)           (None, 56, 56, 128)       16384     \n",
      "_________________________________________________________________\n",
      "conv_pw_3_bn (BatchNormaliza (None, 56, 56, 128)       512       \n",
      "_________________________________________________________________\n",
      "conv_pw_3_relu (ReLU)        (None, 56, 56, 128)       0         \n",
      "_________________________________________________________________\n",
      "conv_pad_4 (ZeroPadding2D)   (None, 57, 57, 128)       0         \n",
      "_________________________________________________________________\n",
      "conv_dw_4 (DepthwiseConv2D)  (None, 28, 28, 128)       1152      \n",
      "_________________________________________________________________\n",
      "conv_dw_4_bn (BatchNormaliza (None, 28, 28, 128)       512       \n",
      "_________________________________________________________________\n",
      "conv_dw_4_relu (ReLU)        (None, 28, 28, 128)       0         \n",
      "_________________________________________________________________\n",
      "conv_pw_4 (Conv2D)           (None, 28, 28, 256)       32768     \n",
      "_________________________________________________________________\n",
      "conv_pw_4_bn (BatchNormaliza (None, 28, 28, 256)       1024      \n",
      "_________________________________________________________________\n",
      "conv_pw_4_relu (ReLU)        (None, 28, 28, 256)       0         \n",
      "_________________________________________________________________\n",
      "conv_dw_5 (DepthwiseConv2D)  (None, 28, 28, 256)       2304      \n",
      "_________________________________________________________________\n",
      "conv_dw_5_bn (BatchNormaliza (None, 28, 28, 256)       1024      \n",
      "_________________________________________________________________\n",
      "conv_dw_5_relu (ReLU)        (None, 28, 28, 256)       0         \n",
      "_________________________________________________________________\n",
      "conv_pw_5 (Conv2D)           (None, 28, 28, 256)       65536     \n",
      "_________________________________________________________________\n",
      "conv_pw_5_bn (BatchNormaliza (None, 28, 28, 256)       1024      \n",
      "_________________________________________________________________\n",
      "conv_pw_5_relu (ReLU)        (None, 28, 28, 256)       0         \n",
      "_________________________________________________________________\n",
      "conv_pad_6 (ZeroPadding2D)   (None, 29, 29, 256)       0         \n",
      "_________________________________________________________________\n",
      "conv_dw_6 (DepthwiseConv2D)  (None, 14, 14, 256)       2304      \n",
      "_________________________________________________________________\n",
      "conv_dw_6_bn (BatchNormaliza (None, 14, 14, 256)       1024      \n",
      "_________________________________________________________________\n",
      "conv_dw_6_relu (ReLU)        (None, 14, 14, 256)       0         \n",
      "_________________________________________________________________\n",
      "conv_pw_6 (Conv2D)           (None, 14, 14, 512)       131072    \n",
      "_________________________________________________________________\n",
      "conv_pw_6_bn (BatchNormaliza (None, 14, 14, 512)       2048      \n",
      "_________________________________________________________________\n",
      "conv_pw_6_relu (ReLU)        (None, 14, 14, 512)       0         \n",
      "_________________________________________________________________\n",
      "conv_dw_7 (DepthwiseConv2D)  (None, 14, 14, 512)       4608      \n",
      "_________________________________________________________________\n",
      "conv_dw_7_bn (BatchNormaliza (None, 14, 14, 512)       2048      \n",
      "_________________________________________________________________\n",
      "conv_dw_7_relu (ReLU)        (None, 14, 14, 512)       0         \n",
      "_________________________________________________________________\n",
      "conv_pw_7 (Conv2D)           (None, 14, 14, 512)       262144    \n",
      "_________________________________________________________________\n",
      "conv_pw_7_bn (BatchNormaliza (None, 14, 14, 512)       2048      \n",
      "_________________________________________________________________\n",
      "conv_pw_7_relu (ReLU)        (None, 14, 14, 512)       0         \n",
      "_________________________________________________________________\n",
      "conv_dw_8 (DepthwiseConv2D)  (None, 14, 14, 512)       4608      \n",
      "_________________________________________________________________\n",
      "conv_dw_8_bn (BatchNormaliza (None, 14, 14, 512)       2048      \n",
      "_________________________________________________________________\n",
      "conv_dw_8_relu (ReLU)        (None, 14, 14, 512)       0         \n",
      "_________________________________________________________________\n",
      "conv_pw_8 (Conv2D)           (None, 14, 14, 512)       262144    \n",
      "_________________________________________________________________\n",
      "conv_pw_8_bn (BatchNormaliza (None, 14, 14, 512)       2048      \n",
      "_________________________________________________________________\n",
      "conv_pw_8_relu (ReLU)        (None, 14, 14, 512)       0         \n",
      "_________________________________________________________________\n",
      "conv_dw_9 (DepthwiseConv2D)  (None, 14, 14, 512)       4608      \n",
      "_________________________________________________________________\n",
      "conv_dw_9_bn (BatchNormaliza (None, 14, 14, 512)       2048      \n",
      "_________________________________________________________________\n",
      "conv_dw_9_relu (ReLU)        (None, 14, 14, 512)       0         \n",
      "_________________________________________________________________\n",
      "conv_pw_9 (Conv2D)           (None, 14, 14, 512)       262144    \n",
      "_________________________________________________________________\n",
      "conv_pw_9_bn (BatchNormaliza (None, 14, 14, 512)       2048      \n",
      "_________________________________________________________________\n",
      "conv_pw_9_relu (ReLU)        (None, 14, 14, 512)       0         \n",
      "_________________________________________________________________\n",
      "conv_dw_10 (DepthwiseConv2D) (None, 14, 14, 512)       4608      \n",
      "_________________________________________________________________\n",
      "conv_dw_10_bn (BatchNormaliz (None, 14, 14, 512)       2048      \n",
      "_________________________________________________________________\n",
      "conv_dw_10_relu (ReLU)       (None, 14, 14, 512)       0         \n",
      "_________________________________________________________________\n",
      "conv_pw_10 (Conv2D)          (None, 14, 14, 512)       262144    \n",
      "_________________________________________________________________\n",
      "conv_pw_10_bn (BatchNormaliz (None, 14, 14, 512)       2048      \n",
      "_________________________________________________________________\n",
      "conv_pw_10_relu (ReLU)       (None, 14, 14, 512)       0         \n",
      "_________________________________________________________________\n",
      "conv_dw_11 (DepthwiseConv2D) (None, 14, 14, 512)       4608      \n",
      "_________________________________________________________________\n",
      "conv_dw_11_bn (BatchNormaliz (None, 14, 14, 512)       2048      \n",
      "_________________________________________________________________\n",
      "conv_dw_11_relu (ReLU)       (None, 14, 14, 512)       0         \n",
      "_________________________________________________________________\n",
      "conv_pw_11 (Conv2D)          (None, 14, 14, 512)       262144    \n",
      "_________________________________________________________________\n",
      "conv_pw_11_bn (BatchNormaliz (None, 14, 14, 512)       2048      \n",
      "_________________________________________________________________\n",
      "conv_pw_11_relu (ReLU)       (None, 14, 14, 512)       0         \n",
      "_________________________________________________________________\n",
      "conv_pad_12 (ZeroPadding2D)  (None, 15, 15, 512)       0         \n",
      "_________________________________________________________________\n",
      "conv_dw_12 (DepthwiseConv2D) (None, 7, 7, 512)         4608      \n",
      "_________________________________________________________________\n",
      "conv_dw_12_bn (BatchNormaliz (None, 7, 7, 512)         2048      \n",
      "_________________________________________________________________\n",
      "conv_dw_12_relu (ReLU)       (None, 7, 7, 512)         0         \n",
      "_________________________________________________________________\n",
      "conv_pw_12 (Conv2D)          (None, 7, 7, 1024)        524288    \n",
      "_________________________________________________________________\n",
      "conv_pw_12_bn (BatchNormaliz (None, 7, 7, 1024)        4096      \n",
      "_________________________________________________________________\n",
      "conv_pw_12_relu (ReLU)       (None, 7, 7, 1024)        0         \n",
      "_________________________________________________________________\n",
      "conv_dw_13 (DepthwiseConv2D) (None, 7, 7, 1024)        9216      \n",
      "_________________________________________________________________\n",
      "conv_dw_13_bn (BatchNormaliz (None, 7, 7, 1024)        4096      \n",
      "_________________________________________________________________\n",
      "conv_dw_13_relu (ReLU)       (None, 7, 7, 1024)        0         \n",
      "_________________________________________________________________\n",
      "conv_pw_13 (Conv2D)          (None, 7, 7, 1024)        1048576   \n",
      "_________________________________________________________________\n",
      "conv_pw_13_bn (BatchNormaliz (None, 7, 7, 1024)        4096      \n",
      "_________________________________________________________________\n",
      "conv_pw_13_relu (ReLU)       (None, 7, 7, 1024)        0         \n",
      "=================================================================\n",
      "Total params: 3,228,864\n",
      "Trainable params: 0\n",
      "Non-trainable params: 3,228,864\n",
      "_________________________________________________________________\n"
     ]
    }
   ],
   "source": [
    "# Load the MobileNetV1 model without the top layers\n",
    "base_model = MobileNet(input_shape=(224, 224, 3),\n",
    "                       include_top=False,\n",
    "                       weights=\"imagenet\")\n",
    "\n",
    "# Freeze the base model\n",
    "base_model.trainable = False\n",
    "# Print a summary of the base model\n",
    "base_model.summary()"
   ]
  },
  {
   "cell_type": "markdown",
   "id": "f34bcd64",
   "metadata": {},
   "source": [
    "## Construct the Head of the Model"
   ]
  },
  {
   "cell_type": "code",
   "execution_count": 5,
   "id": "93f99fc3",
   "metadata": {},
   "outputs": [],
   "source": [
    "# Initialize input of head_model as per the input of base_model\n",
    "head_model = base_model.input\n",
    "# Add the base_model & keep our batchnorm layers in inference mode when we unfreeze the base_model\n",
    "head_model = base_model(head_model, training=False)\n",
    "# Add a global pooling layer\n",
    "head_model = GlobalAveragePooling2D()(head_model)\n",
    "# Add a dense/FC layer\n",
    "head_model = Dense(1024, activation='relu')(head_model)\n",
    "# Add a dense/FC layer\n",
    "head_model = Dense(512, activation='relu')(head_model)\n",
    "# Add a dense/FC layer\n",
    "head_model = Dense(10, activation=\"softmax\")(head_model)"
   ]
  },
  {
   "cell_type": "markdown",
   "id": "3d3896c1",
   "metadata": {},
   "source": [
    "## Build the Final Model"
   ]
  },
  {
   "cell_type": "code",
   "execution_count": 6,
   "id": "2fff70da",
   "metadata": {
    "scrolled": false
   },
   "outputs": [
    {
     "name": "stdout",
     "output_type": "stream",
     "text": [
      "Model: \"model\"\n",
      "_________________________________________________________________\n",
      "Layer (type)                 Output Shape              Param #   \n",
      "=================================================================\n",
      "input_1 (InputLayer)         [(None, 224, 224, 3)]     0         \n",
      "_________________________________________________________________\n",
      "mobilenet_1.00_224 (Function (None, 7, 7, 1024)        3228864   \n",
      "_________________________________________________________________\n",
      "global_average_pooling2d (Gl (None, 1024)              0         \n",
      "_________________________________________________________________\n",
      "dense (Dense)                (None, 1024)              1049600   \n",
      "_________________________________________________________________\n",
      "dense_1 (Dense)              (None, 512)               524800    \n",
      "_________________________________________________________________\n",
      "dense_2 (Dense)              (None, 10)                5130      \n",
      "=================================================================\n",
      "Total params: 4,808,394\n",
      "Trainable params: 1,579,530\n",
      "Non-trainable params: 3,228,864\n",
      "_________________________________________________________________\n"
     ]
    }
   ],
   "source": [
    "# Place the constructed head on top of the base model\n",
    "model = Model(inputs=base_model.input, outputs=head_model)\n",
    "# Compile the model\n",
    "model.compile(loss='categorical_crossentropy',\n",
    "              optimizer=Adam(),\n",
    "              metrics=['accuracy'])\n",
    "# Print a summary of the base model                                                  \n",
    "model.summary()"
   ]
  },
  {
   "cell_type": "markdown",
   "id": "f8be88db",
   "metadata": {},
   "source": [
    "## Define Callbacks"
   ]
  },
  {
   "cell_type": "code",
   "execution_count": 7,
   "id": "8c6cf20b",
   "metadata": {},
   "outputs": [],
   "source": [
    "# Define a callback for saving only the best model during the training\n",
    "checkpoint = ModelCheckpoint(filepath=\"./Trained Models/monkey_breed_classifier.h5\",\n",
    "                             monitor='val_accuracy',\n",
    "                             mode='max',\n",
    "                             save_best_only=True,\n",
    "                             verbose=1)\n",
    "\n",
    "# Define a callback to stop training when validation accuracy has stopped increasing\n",
    "earlystop = EarlyStopping(monitor='val_accuracy',\n",
    "                          mode='max',\n",
    "                          patience=5,\n",
    "                          restore_best_weights=True,\n",
    "                          verbose=1)\n",
    "\n",
    "# Put our callbacks into a list\n",
    "callbacks = [earlystop, checkpoint]"
   ]
  },
  {
   "cell_type": "markdown",
   "id": "46107515",
   "metadata": {},
   "source": [
    "# Train the Head of the Model"
   ]
  },
  {
   "cell_type": "code",
   "execution_count": 8,
   "id": "306b12f8",
   "metadata": {},
   "outputs": [
    {
     "name": "stdout",
     "output_type": "stream",
     "text": [
      "Epoch 1/100\n",
      "34/34 [==============================] - 54s 1s/step - loss: 2.1254 - accuracy: 0.3935 - val_loss: 0.2336 - val_accuracy: 0.9258\n",
      "\n",
      "Epoch 00001: val_accuracy improved from -inf to 0.92578, saving model to ./Trained Models\\monkey_breed_classifier.h5\n",
      "Epoch 2/100\n",
      "34/34 [==============================] - 48s 1s/step - loss: 0.3342 - accuracy: 0.9011 - val_loss: 0.1702 - val_accuracy: 0.9453\n",
      "\n",
      "Epoch 00002: val_accuracy improved from 0.92578 to 0.94531, saving model to ./Trained Models\\monkey_breed_classifier.h5\n",
      "Epoch 3/100\n",
      "34/34 [==============================] - 44s 1s/step - loss: 0.1521 - accuracy: 0.9482 - val_loss: 0.1129 - val_accuracy: 0.9531\n",
      "\n",
      "Epoch 00003: val_accuracy improved from 0.94531 to 0.95312, saving model to ./Trained Models\\monkey_breed_classifier.h5\n",
      "Epoch 4/100\n",
      "34/34 [==============================] - 43s 1s/step - loss: 0.1246 - accuracy: 0.9603 - val_loss: 0.1207 - val_accuracy: 0.9531\n",
      "\n",
      "Epoch 00004: val_accuracy did not improve from 0.95312\n",
      "Epoch 5/100\n",
      "34/34 [==============================] - 43s 1s/step - loss: 0.1257 - accuracy: 0.9635 - val_loss: 0.2900 - val_accuracy: 0.9375\n",
      "\n",
      "Epoch 00005: val_accuracy did not improve from 0.95312\n",
      "Epoch 6/100\n",
      "34/34 [==============================] - 44s 1s/step - loss: 0.1941 - accuracy: 0.9251 - val_loss: 0.1501 - val_accuracy: 0.9609\n",
      "\n",
      "Epoch 00006: val_accuracy improved from 0.95312 to 0.96094, saving model to ./Trained Models\\monkey_breed_classifier.h5\n",
      "Epoch 7/100\n",
      "34/34 [==============================] - 42s 1s/step - loss: 0.1481 - accuracy: 0.9495 - val_loss: 0.1770 - val_accuracy: 0.9414\n",
      "\n",
      "Epoch 00007: val_accuracy did not improve from 0.96094\n",
      "Epoch 8/100\n",
      "34/34 [==============================] - 42s 1s/step - loss: 0.0909 - accuracy: 0.9569 - val_loss: 0.2388 - val_accuracy: 0.9258\n",
      "\n",
      "Epoch 00008: val_accuracy did not improve from 0.96094\n",
      "Epoch 9/100\n",
      "34/34 [==============================] - 42s 1s/step - loss: 0.1541 - accuracy: 0.9418 - val_loss: 0.1266 - val_accuracy: 0.9453\n",
      "\n",
      "Epoch 00009: val_accuracy did not improve from 0.96094\n",
      "Epoch 10/100\n",
      "34/34 [==============================] - 42s 1s/step - loss: 0.0754 - accuracy: 0.9694 - val_loss: 0.1692 - val_accuracy: 0.9297\n",
      "\n",
      "Epoch 00010: val_accuracy did not improve from 0.96094\n",
      "Epoch 11/100\n",
      "34/34 [==============================] - 43s 1s/step - loss: 0.1122 - accuracy: 0.9635 - val_loss: 0.1590 - val_accuracy: 0.9609\n",
      "Restoring model weights from the end of the best epoch.\n",
      "\n",
      "Epoch 00011: val_accuracy did not improve from 0.96094\n",
      "Epoch 00011: early stopping\n"
     ]
    },
    {
     "data": {
      "text/plain": [
       "<tensorflow.python.keras.callbacks.History at 0x27bf7d3b8e0>"
      ]
     },
     "execution_count": 8,
     "metadata": {},
     "output_type": "execute_result"
    }
   ],
   "source": [
    "# Train our the head of the model\n",
    "model.fit(x=train_generator,\n",
    "          epochs=100,\n",
    "          callbacks=callbacks,\n",
    "          steps_per_epoch=nb_train_samples // batch_size,\n",
    "          validation_data=val_generator,\n",
    "          validation_steps=nb_val_samples // batch_size)"
   ]
  },
  {
   "cell_type": "markdown",
   "id": "2e09dac5",
   "metadata": {},
   "source": [
    "# Perform Fine-Tuning"
   ]
  },
  {
   "cell_type": "code",
   "execution_count": 9,
   "id": "0002f493",
   "metadata": {},
   "outputs": [
    {
     "name": "stdout",
     "output_type": "stream",
     "text": [
      "Model: \"model\"\n",
      "_________________________________________________________________\n",
      "Layer (type)                 Output Shape              Param #   \n",
      "=================================================================\n",
      "input_1 (InputLayer)         [(None, 224, 224, 3)]     0         \n",
      "_________________________________________________________________\n",
      "mobilenet_1.00_224 (Function (None, 7, 7, 1024)        3228864   \n",
      "_________________________________________________________________\n",
      "global_average_pooling2d (Gl (None, 1024)              0         \n",
      "_________________________________________________________________\n",
      "dense (Dense)                (None, 1024)              1049600   \n",
      "_________________________________________________________________\n",
      "dense_1 (Dense)              (None, 512)               524800    \n",
      "_________________________________________________________________\n",
      "dense_2 (Dense)              (None, 10)                5130      \n",
      "=================================================================\n",
      "Total params: 4,808,394\n",
      "Trainable params: 4,786,506\n",
      "Non-trainable params: 21,888\n",
      "_________________________________________________________________\n"
     ]
    }
   ],
   "source": [
    "# Unfreeze the all the frozen layers in the model\n",
    "model.trainable = True\n",
    "# Compile the model again\n",
    "model.compile(loss='categorical_crossentropy',\n",
    "              optimizer=Adam(lr=0.00001),\n",
    "              metrics=['accuracy'])\n",
    "# Print a summary of the model                                                  \n",
    "model.summary()"
   ]
  },
  {
   "cell_type": "code",
   "execution_count": 10,
   "id": "d9908701",
   "metadata": {},
   "outputs": [
    {
     "name": "stdout",
     "output_type": "stream",
     "text": [
      "Epoch 1/25\n",
      "34/34 [==============================] - 47s 1s/step - loss: 0.1005 - accuracy: 0.9626 - val_loss: 0.1017 - val_accuracy: 0.9648\n",
      "\n",
      "Epoch 00001: val_accuracy improved from 0.96094 to 0.96484, saving model to ./Trained Models\\monkey_breed_classifier.h5\n",
      "Epoch 2/25\n",
      "34/34 [==============================] - 45s 1s/step - loss: 0.0756 - accuracy: 0.9817 - val_loss: 0.1137 - val_accuracy: 0.9609\n",
      "\n",
      "Epoch 00002: val_accuracy did not improve from 0.96484\n",
      "Epoch 3/25\n",
      "34/34 [==============================] - 47s 1s/step - loss: 0.0586 - accuracy: 0.9832 - val_loss: 0.1559 - val_accuracy: 0.9492\n",
      "\n",
      "Epoch 00003: val_accuracy did not improve from 0.96484\n",
      "Epoch 4/25\n",
      "34/34 [==============================] - 45s 1s/step - loss: 0.0633 - accuracy: 0.9794 - val_loss: 0.1078 - val_accuracy: 0.9453\n",
      "\n",
      "Epoch 00004: val_accuracy did not improve from 0.96484\n",
      "Epoch 5/25\n",
      "34/34 [==============================] - 46s 1s/step - loss: 0.0366 - accuracy: 0.9879 - val_loss: 0.1218 - val_accuracy: 0.9609\n",
      "\n",
      "Epoch 00005: val_accuracy did not improve from 0.96484\n",
      "Epoch 6/25\n",
      "34/34 [==============================] - 46s 1s/step - loss: 0.0373 - accuracy: 0.9890 - val_loss: 0.1581 - val_accuracy: 0.9531\n",
      "Restoring model weights from the end of the best epoch.\n",
      "\n",
      "Epoch 00006: val_accuracy did not improve from 0.96484\n",
      "Epoch 00006: early stopping\n"
     ]
    }
   ],
   "source": [
    "# Fine tune our model and store the training results in a variable\n",
    "model_train_result = model.fit(x=train_generator,\n",
    "                               epochs=25,\n",
    "                               callbacks=callbacks,\n",
    "                               steps_per_epoch=nb_train_samples // batch_size,\n",
    "                               validation_data=val_generator,\n",
    "                               validation_steps=nb_val_samples // batch_size)"
   ]
  },
  {
   "cell_type": "markdown",
   "id": "monthly-border",
   "metadata": {},
   "source": [
    "# Evaluate Model's Performance"
   ]
  },
  {
   "cell_type": "markdown",
   "id": "romance-entertainment",
   "metadata": {},
   "source": [
    "## Loss & Accuracy Charts"
   ]
  },
  {
   "cell_type": "markdown",
   "id": "accessory-nowhere",
   "metadata": {},
   "source": [
    "### Loss Chart"
   ]
  },
  {
   "cell_type": "code",
   "execution_count": 11,
   "id": "handmade-container",
   "metadata": {},
   "outputs": [
    {
     "data": {
      "image/png": "[encoded data removed]",
      "text/plain": [
       "<Figure size 640x480 with 1 Axes>"
      ]
     },
     "metadata": {},
     "output_type": "display_data"
    }
   ],
   "source": [
    "history_dict = model_train_result.history\n",
    "\n",
    "loss_values = history_dict['loss']\n",
    "val_loss_values = history_dict['val_loss']\n",
    "epochs = range(1, len(loss_values) + 1)\n",
    "\n",
    "line1 = plt.plot(epochs, val_loss_values, label='Validation Loss')\n",
    "line2 = plt.plot(epochs, loss_values, label='Training Loss')\n",
    "plt.setp(line1, linewidth=2.0, marker='+', markersize=10.0)\n",
    "plt.setp(line2, linewidth=2.0, marker='4', markersize=10.0)\n",
    "plt.xlabel('Epochs')\n",
    "plt.ylabel('Loss')\n",
    "plt.grid(True)\n",
    "plt.legend()\n",
    "plt.show()"
   ]
  },
  {
   "cell_type": "markdown",
   "id": "dental-prime",
   "metadata": {},
   "source": [
    "### Accuracy Chart"
   ]
  },
  {
   "cell_type": "code",
   "execution_count": 12,
   "id": "driving-permit",
   "metadata": {
    "scrolled": false
   },
   "outputs": [
    {
     "data": {
      "image/png": "[encoded data removed]",
      "text/plain": [
       "<Figure size 640x480 with 1 Axes>"
      ]
     },
     "metadata": {},
     "output_type": "display_data"
    }
   ],
   "source": [
    "history_dict = model_train_result.history\n",
    "\n",
    "acc_values = history_dict['accuracy']\n",
    "val_acc_values = history_dict['val_accuracy']\n",
    "epochs = range(1, len(loss_values) + 1)\n",
    "\n",
    "line1 = plt.plot(epochs, val_acc_values, label='Validation Accuracy')\n",
    "line2 = plt.plot(epochs, acc_values, label='Training Accuracy')\n",
    "plt.setp(line1, linewidth=2.0, marker='+', markersize=10.0)\n",
    "plt.setp(line2, linewidth=2.0, marker='4', markersize=10.0)\n",
    "plt.xlabel('Epochs')\n",
    "plt.ylabel('Accuracy')\n",
    "plt.grid(True)\n",
    "plt.legend()\n",
    "plt.show()"
   ]
  },
  {
   "cell_type": "markdown",
   "id": "324afadf",
   "metadata": {},
   "source": [
    "## Classification Report for Validation Dataset"
   ]
  },
  {
   "cell_type": "code",
   "execution_count": 13,
   "id": "780868a4",
   "metadata": {
    "scrolled": true
   },
   "outputs": [
    {
     "name": "stdout",
     "output_type": "stream",
     "text": [
      "              precision    recall  f1-score   support\n",
      "\n",
      "          n0       0.93      0.96      0.94        26\n",
      "          n1       0.97      1.00      0.98        28\n",
      "          n2       1.00      1.00      1.00        27\n",
      "          n3       1.00      0.87      0.93        30\n",
      "          n4       0.96      1.00      0.98        26\n",
      "          n5       0.93      1.00      0.97        28\n",
      "          n6       0.96      0.96      0.96        26\n",
      "          n7       0.93      1.00      0.97        28\n",
      "          n8       1.00      0.89      0.94        27\n",
      "          n9       0.92      0.92      0.92        26\n",
      "\n",
      "    accuracy                           0.96       272\n",
      "   macro avg       0.96      0.96      0.96       272\n",
      "weighted avg       0.96      0.96      0.96       272\n",
      "\n"
     ]
    }
   ],
   "source": [
    "# Get model's predictions for each image in val dataset\n",
    "val_pred = model.predict(val_generator, nb_val_samples // batch_size + 1)\n",
    "val_pred = np.argmax(val_pred, axis=1)\n",
    "\n",
    "# Get class names\n",
    "class_names = val_generator.class_indices\n",
    "class_names = {v: k for k, v in class_names.items()}\n",
    "class_names = list(class_names.values())\n",
    "\n",
    "# Get the classification report generated for val dataset\n",
    "print(classification_report(y_true=val_generator.classes,\n",
    "                            y_pred=val_pred, target_names=class_names))"
   ]
  },
  {
   "cell_type": "markdown",
   "id": "17882492",
   "metadata": {},
   "source": [
    "## Confusion Matrix for Validation Dataset"
   ]
  },
  {
   "cell_type": "code",
   "execution_count": 15,
   "id": "9da288c4",
   "metadata": {},
   "outputs": [
    {
     "data": {
      "image/png": "[encoded data removed]",
      "text/plain": [
       "<Figure size 2000x2000 with 2 Axes>"
      ]
     },
     "metadata": {},
     "output_type": "display_data"
    }
   ],
   "source": [
    "# Generate the confusion matrix for val dataset\n",
    "cnf_matrix = confusion_matrix(y_true=val_generator.classes, y_pred=val_pred)\n",
    "\n",
    "# Display the confusion matrix\n",
    "plt.figure(figsize=(20, 20))\n",
    "plt.imshow(cnf_matrix, interpolation='nearest')\n",
    "plt.colorbar()\n",
    "tick_marks = np.arange(len(class_names))\n",
    "_ = plt.xticks(tick_marks, class_names, rotation=90)\n",
    "_ = plt.yticks(tick_marks, class_names)\n",
    "plt.show()"
   ]
  },
  {
   "cell_type": "markdown",
   "id": "qualified-budapest",
   "metadata": {},
   "source": [
    "# Classifier Demonstration"
   ]
  },
  {
   "cell_type": "markdown",
   "id": "alien-success",
   "metadata": {},
   "source": [
    "## Define Required Functions"
   ]
  },
  {
   "cell_type": "code",
   "execution_count": null,
   "id": "c6abd854",
   "metadata": {},
   "outputs": [],
   "source": [
    "monkey_breeds_dict = {\"[0]\": \"mantled_howler \",\n",
    "                      \"[1]\": \"patas_monkey\",\n",
    "                      \"[2]\": \"bald_uakari\",\n",
    "                      \"[3]\": \"japanese_macaque\",\n",
    "                      \"[4]\": \"pygmy_marmoset \",\n",
    "                      \"[5]\": \"white_headed_capuchin\",\n",
    "                      \"[6]\": \"silvery_marmoset\",\n",
    "                      \"[7]\": \"common_squirrel_monkey\",\n",
    "                      \"[8]\": \"black_headed_night_monkey\",\n",
    "                      \"[9]\": \"nilgiri_langur\"}\n",
    "\n",
    "monkey_breeds_dict_n = {\"n0\": \"mantled_howler \",\n",
    "                        \"n1\": \"patas_monkey\",\n",
    "                        \"n2\": \"bald_uakari\",\n",
    "                        \"n3\": \"japanese_macaque\",\n",
    "                        \"n4\": \"pygmy_marmoset \",\n",
    "                        \"n5\": \"white_headed_capuchin\",\n",
    "                        \"n6\": \"silvery_marmoset\",\n",
    "                        \"n7\": \"common_squirrel_monkey\",\n",
    "                        \"n8\": \"black_headed_night_monkey\",\n",
    "                        \"n9\": \"nilgiri_langur\"}\n",
    "\n",
    "# Define a function that will draw model's prediction & true label over the input image\n",
    "def draw_test(actual, pred, im):\n",
    "    monkey = monkey_breeds_dict[str(pred)]\n",
    "    BLACK = [0, 0, 0]\n",
    "    expanded_image = cv2.copyMakeBorder(\n",
    "        im, 80, 0, 0, 100, cv2.BORDER_CONSTANT, value=BLACK)\n",
    "    cv2.putText(expanded_image, \"Predicted - \" + monkey, (10, 60),\n",
    "                cv2.FONT_HERSHEY_SIMPLEX, 1, (0, 0, 255), 2)\n",
    "    cv2.putText(expanded_image, \"Actual - \" + actual, (10, 90),\n",
    "                cv2.FONT_HERSHEY_SIMPLEX, 1, (0, 255, 0), 2)\n",
    "    cv2.imshow(\"Monkey Breeds Classifier Using MobileNetV1 - Demo\", expanded_image)\n",
    "\n",
    "# Define a function that grabs a random image from a random folder in the specified path\n",
    "def get_random_image(path):\n",
    "    folders = list(filter(lambda x: os.path.isdir(\n",
    "        os.path.join(path, x)), os.listdir(path)))\n",
    "    random_directory = np.random.randint(0, len(folders))\n",
    "    path_class = folders[random_directory]\n",
    "    image_class = monkey_breeds_dict_n[str(path_class)]\n",
    "    file_path = path + path_class\n",
    "    file_names = [f for f in os.listdir(file_path) if os.path.isfile(os.path.join(file_path, f))]\n",
    "    random_file_index = np.random.randint(0, len(file_names))\n",
    "    image_name = file_names[random_file_index]\n",
    "    return image_class, cv2.imread(file_path + \"/\" + image_name)"
   ]
  },
  {
   "cell_type": "markdown",
   "id": "terminal-liabilities",
   "metadata": {},
   "source": [
    "## Run the Demonstration"
   ]
  },
  {
   "cell_type": "code",
   "execution_count": 25,
   "id": "c58b4ee5",
   "metadata": {},
   "outputs": [],
   "source": [
    "for i in range(0, 10):\n",
    "    actual, input_im = get_random_image(\"./Dataset/validation/\")\n",
    "    input_original = input_im.copy()\n",
    "    input_original = cv2.resize(\n",
    "        input_original, None, fx=0.5, fy=0.5, interpolation=cv2.INTER_LINEAR)\n",
    "\n",
    "    input_im = cv2.resize(input_im, (224, 224), interpolation=cv2.INTER_LINEAR)\n",
    "    input_im = input_im / 255.\n",
    "    input_im = input_im.reshape(1, 224, 224, 3)\n",
    "    res = np.argmax(model.predict(input_im, 1, verbose=0), axis=1)\n",
    "    draw_test(actual, res, input_original)\n",
    "    cv2.waitKey(0)\n",
    "\n",
    "cv2.destroyAllWindows()"
   ]
  }
 ],
 "metadata": {
  "kernelspec": {
   "display_name": "Python 3",
   "language": "python",
   "name": "python3"
  },
  "language_info": {
   "codemirror_mode": {
    "name": "ipython",
    "version": 3
   },
   "file_extension": ".py",
   "mimetype": "text/x-python",
   "name": "python",
   "nbconvert_exporter": "python",
   "pygments_lexer": "ipython3",
   "version": "3.8.10"
  },
  "toc": {
   "base_numbering": 1,
   "nav_menu": {},
   "number_sections": true,
   "sideBar": true,
   "skip_h1_title": false,
   "title_cell": "Table of Contents",
   "title_sidebar": "Contents",
   "toc_cell": false,
   "toc_position": {},
   "toc_section_display": true,
   "toc_window_display": false
  },
  "varInspector": {
   "cols": {
    "lenName": 16,
    "lenType": 16,
    "lenVar": 40
   },
   "kernels_config": {
    "python": {
     "delete_cmd_postfix": "",
     "delete_cmd_prefix": "del ",
     "library": "var_list.py",
     "varRefreshCmd": "print(var_dic_list())"
    },
    "r": {
     "delete_cmd_postfix": ") ",
     "delete_cmd_prefix": "rm(",
     "library": "var_list.r",
     "varRefreshCmd": "cat(var_dic_list()) "
    }
   },
   "types_to_exclude": [
    "module",
    "function",
    "builtin_function_or_method",
    "instance",
    "_Feature"
   ],
   "window_display": false
  }
 },
 "nbformat": 4,
 "nbformat_minor": 5
}
