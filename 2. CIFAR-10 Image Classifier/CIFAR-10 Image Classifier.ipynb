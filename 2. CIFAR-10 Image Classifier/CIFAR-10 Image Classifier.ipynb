{
 "cells": [
  {
   "cell_type": "markdown",
   "id": "detailed-livestock",
   "metadata": {},
   "source": [
    "# Import Necessary Modules"
   ]
  },
  {
   "cell_type": "code",
   "execution_count": 1,
   "id": "proved-massachusetts",
   "metadata": {},
   "outputs": [],
   "source": [
    "import numpy as np\n",
    "import matplotlib.pyplot as plt\n",
    "from sklearn.metrics import classification_report, confusion_matrix\n",
    "from tensorflow.keras.datasets import cifar10\n",
    "from tensorflow.python.keras.utils import np_utils\n",
    "from tensorflow.keras.models import Sequential\n",
    "from tensorflow.keras.callbacks import ModelCheckpoint, EarlyStopping\n",
    "from tensorflow.keras.layers import Conv2D, Dense, Dropout, Flatten, MaxPooling2D\n",
    "from tensorflow.keras.optimizers import SGD"
   ]
  },
  {
   "cell_type": "markdown",
   "id": "medium-underwear",
   "metadata": {},
   "source": [
    "# Load the 'CIFAR-10' Dataset & Examine it"
   ]
  },
  {
   "cell_type": "code",
   "execution_count": 2,
   "id": "charged-praise",
   "metadata": {},
   "outputs": [
    {
     "name": "stdout",
     "output_type": "stream",
     "text": [
      "Number of samples in our training data: 50000\n",
      "Number of labels in our training data: 50000\n",
      "Number of samples in our validation data: 10000\n",
      "Number of labels in our validation data: 10000\n",
      "\n",
      "Dimensions of x_train: (50000, 32, 32, 3)\n",
      "Dimensions of x_val: (10000, 32, 32, 3)\n"
     ]
    }
   ],
   "source": [
    "# Load the CIFAR-10 dataset & split it into training and validation datasets\n",
    "(x_train, y_train), (x_val, y_val) = cifar10.load_data()\n",
    "\n",
    "# Some print statements to examine the dataset we have\n",
    "print(\"Number of samples in our training data: \" + str(len(x_train)))\n",
    "print(\"Number of labels in our training data: \" + str(len(y_train)))\n",
    "print(\"Number of samples in our validation data: \" + str(len(x_val)))\n",
    "print(\"Number of labels in our validation data: \" + str(len(y_val)))\n",
    "print()\n",
    "print(\"Dimensions of x_train: \" + str(x_train.shape))\n",
    "print(\"Dimensions of x_val: \" + str(x_val.shape))"
   ]
  },
  {
   "cell_type": "markdown",
   "id": "catholic-slope",
   "metadata": {},
   "source": [
    "# Preprocessing Our Dataset"
   ]
  },
  {
   "cell_type": "markdown",
   "id": "incomplete-practitioner",
   "metadata": {},
   "source": [
    "## Preprocessing our image datasets i.e x_train & x_val"
   ]
  },
  {
   "cell_type": "code",
   "execution_count": 3,
   "id": "pretty-tribute",
   "metadata": {},
   "outputs": [],
   "source": [
    "# Change our image data type to float32 data type\n",
    "x_train = x_train.astype('float32')\n",
    "x_val = x_val.astype('float32')\n",
    "\n",
    "# Normalize our data by changing the range from (0 to 255) to (0 to 1)\n",
    "x_train /= 255\n",
    "x_val /= 255"
   ]
  },
  {
   "cell_type": "markdown",
   "id": "willing-living",
   "metadata": {},
   "source": [
    "## Preprocessing our label datasets i.e y_train & y_val"
   ]
  },
  {
   "cell_type": "code",
   "execution_count": 4,
   "id": "rotary-painting",
   "metadata": {},
   "outputs": [],
   "source": [
    "# Since we are dealing with categorical data, we need to 'One-Hot' encode our labels\n",
    "y_train = np_utils.to_categorical(y_train)\n",
    "y_val = np_utils.to_categorical(y_val)"
   ]
  },
  {
   "cell_type": "markdown",
   "id": "innovative-fields",
   "metadata": {},
   "source": [
    "# Build a Model"
   ]
  },
  {
   "cell_type": "markdown",
   "id": "unexpected-topic",
   "metadata": {},
   "source": [
    "## Create the Model"
   ]
  },
  {
   "cell_type": "code",
   "execution_count": 5,
   "id": "miniature-hampshire",
   "metadata": {},
   "outputs": [
    {
     "name": "stdout",
     "output_type": "stream",
     "text": [
      "Model: \"sequential\"\n",
      "_________________________________________________________________\n",
      "Layer (type)                 Output Shape              Param #   \n",
      "=================================================================\n",
      "conv2d (Conv2D)              (None, 32, 32, 32)        896       \n",
      "_________________________________________________________________\n",
      "max_pooling2d (MaxPooling2D) (None, 16, 16, 32)        0         \n",
      "_________________________________________________________________\n",
      "conv2d_1 (Conv2D)            (None, 16, 16, 64)        18496     \n",
      "_________________________________________________________________\n",
      "max_pooling2d_1 (MaxPooling2 (None, 8, 8, 64)          0         \n",
      "_________________________________________________________________\n",
      "conv2d_2 (Conv2D)            (None, 8, 8, 128)         73856     \n",
      "_________________________________________________________________\n",
      "max_pooling2d_2 (MaxPooling2 (None, 4, 4, 128)         0         \n",
      "_________________________________________________________________\n",
      "conv2d_3 (Conv2D)            (None, 4, 4, 256)         295168    \n",
      "_________________________________________________________________\n",
      "max_pooling2d_3 (MaxPooling2 (None, 2, 2, 256)         0         \n",
      "_________________________________________________________________\n",
      "flatten (Flatten)            (None, 1024)              0         \n",
      "_________________________________________________________________\n",
      "dense (Dense)                (None, 256)               262400    \n",
      "_________________________________________________________________\n",
      "dropout (Dropout)            (None, 256)               0         \n",
      "_________________________________________________________________\n",
      "dense_1 (Dense)              (None, 512)               131584    \n",
      "_________________________________________________________________\n",
      "dropout_1 (Dropout)          (None, 512)               0         \n",
      "_________________________________________________________________\n",
      "dense_2 (Dense)              (None, 10)                5130      \n",
      "=================================================================\n",
      "Total params: 787,530\n",
      "Trainable params: 787,530\n",
      "Non-trainable params: 0\n",
      "_________________________________________________________________\n",
      "None\n"
     ]
    }
   ],
   "source": [
    "# Initalize the model using Sequential class from Keras\n",
    "model = Sequential()\n",
    "# Add first convolutional layer\n",
    "model.add(Conv2D(filters=32, kernel_size=(3, 3), activation='relu',\n",
    "                 input_shape=(32, 32, 3), padding=\"same\"))\n",
    "# Add a pooling layer which will downsample our data\n",
    "model.add(MaxPooling2D(pool_size=(2, 2)))\n",
    "# Add 2nd convolutional layer\n",
    "model.add(Conv2D(filters=64, kernel_size=(3, 3),\n",
    "                 activation='relu', padding=\"same\"))\n",
    "# Add a pooling layer which will downsample our data\n",
    "model.add(MaxPooling2D(pool_size=(2, 2)))\n",
    "# Add 3rd convolutional layer\n",
    "model.add(Conv2D(filters=128, kernel_size=(\n",
    "    3, 3), activation='relu', padding=\"same\"))\n",
    "# Add a pooling layer which will downsample our data\n",
    "model.add(MaxPooling2D(pool_size=(2, 2)))\n",
    "# Add 4th convolutional layer\n",
    "model.add(Conv2D(filters=256, kernel_size=(\n",
    "    3, 3), activation='relu', padding=\"same\"))\n",
    "# Add a pooling layer which will downsample our data\n",
    "model.add(MaxPooling2D(pool_size=(2, 2)))\n",
    "# Add a flatten layer which will aid in flattening the input\n",
    "model.add(Flatten())\n",
    "# Add a dense/FC layer\n",
    "model.add(Dense(units=256, activation='relu'))\n",
    "# Add a droput layer which will aid in regularization\n",
    "model.add(Dropout(0.5))\n",
    "# Add a dense/FC layer\n",
    "model.add(Dense(units=512, activation='relu'))\n",
    "# Add a droput layer which will aid in regularization\n",
    "model.add(Dropout(0.5))\n",
    "# Add a dense/FC layer\n",
    "model.add(Dense(units=10, activation='softmax'))\n",
    "# Compile the model\n",
    "model.compile(loss='categorical_crossentropy',\n",
    "              optimizer=SGD(0.05),\n",
    "              metrics=['accuracy'])\n",
    "# Print a summary of our model\n",
    "print(model.summary())"
   ]
  },
  {
   "cell_type": "markdown",
   "id": "billion-belarus",
   "metadata": {},
   "source": [
    "## Define Callbacks"
   ]
  },
  {
   "cell_type": "code",
   "execution_count": 6,
   "id": "sudden-michael",
   "metadata": {},
   "outputs": [],
   "source": [
    "# Define a callback for saving only the best model during the training\n",
    "checkpoint = ModelCheckpoint(filepath=\"./Trained Models/cifar10_image_classifier.h5\",\n",
    "                             monitor='val_accuracy',\n",
    "                             mode='max',\n",
    "                             save_best_only=True,\n",
    "                             verbose=1)\n",
    "\n",
    "# Define a callback to stop training when validation accuracy has stopped increasing\n",
    "earlystop = EarlyStopping(monitor='val_accuracy',\n",
    "                          mode='max',\n",
    "                          patience=3,\n",
    "                          restore_best_weights=True,\n",
    "                          verbose=1)\n",
    "\n",
    "# Put our callbacks into a list\n",
    "callbacks = [earlystop, checkpoint]"
   ]
  },
  {
   "cell_type": "markdown",
   "id": "copyrighted-receptor",
   "metadata": {},
   "source": [
    "# Train the Model"
   ]
  },
  {
   "cell_type": "code",
   "execution_count": 7,
   "id": "divine-valuable",
   "metadata": {},
   "outputs": [
    {
     "name": "stdout",
     "output_type": "stream",
     "text": [
      "Epoch 1/100\n",
      "1563/1563 [==============================] - ETA: 0s - loss: 2.0012 - accuracy: 0.2511\n",
      "Epoch 00001: val_accuracy improved from -inf to 0.38100, saving model to ./Trained Models\\cifar10_image_classifier.h5\n",
      "1563/1563 [==============================] - 11s 7ms/step - loss: 2.0012 - accuracy: 0.2511 - val_loss: 1.6959 - val_accuracy: 0.3810\n",
      "Epoch 2/100\n",
      "1561/1563 [============================>.] - ETA: 0s - loss: 1.5506 - accuracy: 0.4295\n",
      "Epoch 00002: val_accuracy improved from 0.38100 to 0.46800, saving model to ./Trained Models\\cifar10_image_classifier.h5\n",
      "1563/1563 [==============================] - 11s 7ms/step - loss: 1.5504 - accuracy: 0.4295 - val_loss: 1.4584 - val_accuracy: 0.4680\n",
      "Epoch 3/100\n",
      "1559/1563 [============================>.] - ETA: 0s - loss: 1.3304 - accuracy: 0.5175\n",
      "Epoch 00003: val_accuracy improved from 0.46800 to 0.55950, saving model to ./Trained Models\\cifar10_image_classifier.h5\n",
      "1563/1563 [==============================] - 11s 7ms/step - loss: 1.3304 - accuracy: 0.5175 - val_loss: 1.2046 - val_accuracy: 0.5595\n",
      "Epoch 4/100\n",
      "1559/1563 [============================>.] - ETA: 0s - loss: 1.1569 - accuracy: 0.5873\n",
      "Epoch 00004: val_accuracy improved from 0.55950 to 0.62030, saving model to ./Trained Models\\cifar10_image_classifier.h5\n",
      "1563/1563 [==============================] - 11s 7ms/step - loss: 1.1565 - accuracy: 0.5874 - val_loss: 1.0521 - val_accuracy: 0.6203\n",
      "Epoch 5/100\n",
      "1557/1563 [============================>.] - ETA: 0s - loss: 1.0211 - accuracy: 0.6411\n",
      "Epoch 00005: val_accuracy improved from 0.62030 to 0.65860, saving model to ./Trained Models\\cifar10_image_classifier.h5\n",
      "1563/1563 [==============================] - 11s 7ms/step - loss: 1.0211 - accuracy: 0.6412 - val_loss: 0.9753 - val_accuracy: 0.6586\n",
      "Epoch 6/100\n",
      "1559/1563 [============================>.] - ETA: 0s - loss: 0.9119 - accuracy: 0.6836\n",
      "Epoch 00006: val_accuracy did not improve from 0.65860\n",
      "1563/1563 [==============================] - 11s 7ms/step - loss: 0.9121 - accuracy: 0.6833 - val_loss: 0.9885 - val_accuracy: 0.6531\n",
      "Epoch 7/100\n",
      "1562/1563 [============================>.] - ETA: 0s - loss: 0.8164 - accuracy: 0.7195\n",
      "Epoch 00007: val_accuracy improved from 0.65860 to 0.70600, saving model to ./Trained Models\\cifar10_image_classifier.h5\n",
      "1563/1563 [==============================] - 11s 7ms/step - loss: 0.8163 - accuracy: 0.7195 - val_loss: 0.8680 - val_accuracy: 0.7060\n",
      "Epoch 8/100\n",
      "1560/1563 [============================>.] - ETA: 0s - loss: 0.7403 - accuracy: 0.7451\n",
      "Epoch 00008: val_accuracy improved from 0.70600 to 0.72150, saving model to ./Trained Models\\cifar10_image_classifier.h5\n",
      "1563/1563 [==============================] - 12s 7ms/step - loss: 0.7403 - accuracy: 0.7451 - val_loss: 0.8033 - val_accuracy: 0.7215\n",
      "Epoch 9/100\n",
      "1558/1563 [============================>.] - ETA: 0s - loss: 0.6680 - accuracy: 0.7684 ETA: 0s -\n",
      "Epoch 00009: val_accuracy did not improve from 0.72150\n",
      "1563/1563 [==============================] - 11s 7ms/step - loss: 0.6676 - accuracy: 0.7684 - val_loss: 0.8576 - val_accuracy: 0.7075\n",
      "Epoch 10/100\n",
      "1559/1563 [============================>.] - ETA: 0s - loss: 0.6085 - accuracy: 0.7922\n",
      "Epoch 00010: val_accuracy did not improve from 0.72150\n",
      "1563/1563 [==============================] - 11s 7ms/step - loss: 0.6086 - accuracy: 0.7922 - val_loss: 0.8761 - val_accuracy: 0.7180\n",
      "Epoch 11/100\n",
      "1561/1563 [============================>.] - ETA: 0s - loss: 0.5439 - accuracy: 0.8112Restoring model weights from the end of the best epoch.\n",
      "\n",
      "Epoch 00011: val_accuracy did not improve from 0.72150\n",
      "1563/1563 [==============================] - 11s 7ms/step - loss: 0.5439 - accuracy: 0.8111 - val_loss: 0.9453 - val_accuracy: 0.6980\n",
      "Epoch 00011: early stopping\n"
     ]
    }
   ],
   "source": [
    "# Train our model and store the training results in a variable\n",
    "model_train_result = model.fit(x=x_train,\n",
    "                               y=y_train,\n",
    "                               batch_size=32,\n",
    "                               epochs=100,\n",
    "                               callbacks=callbacks,\n",
    "                               validation_data=(x_val, y_val))"
   ]
  },
  {
   "cell_type": "markdown",
   "id": "careful-middle",
   "metadata": {},
   "source": [
    "# Evaluate Model's Performance"
   ]
  },
  {
   "cell_type": "markdown",
   "id": "visible-reason",
   "metadata": {},
   "source": [
    "## Loss & Accuracy Charts"
   ]
  },
  {
   "cell_type": "markdown",
   "id": "synthetic-river",
   "metadata": {},
   "source": [
    "### Loss Chart"
   ]
  },
  {
   "cell_type": "code",
   "execution_count": 8,
   "id": "computational-surge",
   "metadata": {},
   "outputs": [
    {
     "data": {
      "image/png": "[encoded data removed]",
      "text/plain": [
       "<Figure size 432x288 with 1 Axes>"
      ]
     },
     "metadata": {
      "needs_background": "light"
     },
     "output_type": "display_data"
    }
   ],
   "source": [
    "history_dict = model_train_result.history\n",
    "\n",
    "loss_values = history_dict['loss']\n",
    "val_loss_values = history_dict['val_loss']\n",
    "epochs = range(1, len(loss_values) + 1)\n",
    "\n",
    "line1 = plt.plot(epochs, val_loss_values, label='Validation/Test Loss')\n",
    "line2 = plt.plot(epochs, loss_values, label='Training Loss')\n",
    "plt.setp(line1, linewidth=2.0, marker='+', markersize=10.0)\n",
    "plt.setp(line2, linewidth=2.0, marker='4', markersize=10.0)\n",
    "plt.xlabel('Epochs')\n",
    "plt.ylabel('Loss')\n",
    "plt.grid(True)\n",
    "plt.legend()\n",
    "plt.show()"
   ]
  },
  {
   "cell_type": "markdown",
   "id": "induced-concentrate",
   "metadata": {},
   "source": [
    "### Accuracy chart"
   ]
  },
  {
   "cell_type": "code",
   "execution_count": 9,
   "id": "arranged-power",
   "metadata": {},
   "outputs": [
    {
     "data": {
      "image/png": "[encoded data removed]",
      "text/plain": [
       "<Figure size 432x288 with 1 Axes>"
      ]
     },
     "metadata": {
      "needs_background": "light"
     },
     "output_type": "display_data"
    }
   ],
   "source": [
    "history_dict = model_train_result.history\n",
    "\n",
    "acc_values = history_dict['accuracy']\n",
    "val_acc_values = history_dict['val_accuracy']\n",
    "epochs = range(1, len(loss_values) + 1)\n",
    "\n",
    "line1 = plt.plot(epochs, val_acc_values, label='Validation/Test Accuracy')\n",
    "line2 = plt.plot(epochs, acc_values, label='Training Accuracy')\n",
    "plt.setp(line1, linewidth=2.0, marker='+', markersize=10.0)\n",
    "plt.setp(line2, linewidth=2.0, marker='4', markersize=10.0)\n",
    "plt.xlabel('Epochs')\n",
    "plt.ylabel('Accuracy')\n",
    "plt.grid(True)\n",
    "plt.legend()\n",
    "plt.show()"
   ]
  },
  {
   "cell_type": "markdown",
   "id": "occupied-frank",
   "metadata": {},
   "source": [
    "## Classification Report for Validation Dataset"
   ]
  },
  {
   "cell_type": "code",
   "execution_count": 10,
   "id": "graphic-guyana",
   "metadata": {},
   "outputs": [
    {
     "name": "stdout",
     "output_type": "stream",
     "text": [
      "              precision    recall  f1-score   support\n",
      "\n",
      "    airplane       0.78      0.72      0.75      1000\n",
      "  automobile       0.85      0.81      0.83      1000\n",
      "        bird       0.69      0.58      0.63      1000\n",
      "         cat       0.53      0.55      0.54      1000\n",
      "        deer       0.66      0.72      0.69      1000\n",
      "         dog       0.57      0.69      0.62      1000\n",
      "        frog       0.79      0.79      0.79      1000\n",
      "       horse       0.87      0.68      0.76      1000\n",
      "        ship       0.77      0.87      0.82      1000\n",
      "       truck       0.79      0.81      0.80      1000\n",
      "\n",
      "    accuracy                           0.72     10000\n",
      "   macro avg       0.73      0.72      0.72     10000\n",
      "weighted avg       0.73      0.72      0.72     10000\n",
      "\n"
     ]
    }
   ],
   "source": [
    "# Undo the one-hot encoding for y_val\n",
    "y_val = np.argmax(y_val, axis=1)\n",
    "\n",
    "# Get model's predictions for each image in validation dataset\n",
    "val_pred = model.predict(x_val, batch_size=32)\n",
    "\n",
    "# Undo the one-hot encoding for val_pred\n",
    "val_pred = np.argmax(val_pred, axis=1)\n",
    "\n",
    "# Get class names\n",
    "class_names = np.array(['airplane', 'automobile', 'bird',\n",
    "                        'cat', 'deer', 'dog', 'frog', 'horse', 'ship', 'truck'])\n",
    "\n",
    "# Get the classification report generated for validation dataset\n",
    "print(classification_report(y_true=y_val,\n",
    "                            y_pred=val_pred, target_names=class_names))"
   ]
  },
  {
   "cell_type": "markdown",
   "id": "smart-moore",
   "metadata": {},
   "source": [
    "## Confusion Matrix for Validation Dataset"
   ]
  },
  {
   "cell_type": "code",
   "execution_count": 11,
   "id": "future-saudi",
   "metadata": {},
   "outputs": [
    {
     "data": {
      "image/png": "[encoded data removed]",
      "text/plain": [
       "<Figure size 1440x1440 with 2 Axes>"
      ]
     },
     "metadata": {
      "needs_background": "light"
     },
     "output_type": "display_data"
    }
   ],
   "source": [
    "# Generate the confusion matrix for validation dataset\n",
    "cnf_matrix = confusion_matrix(y_true=y_val, y_pred=val_pred)\n",
    "\n",
    "# Display the confusion matrix\n",
    "plt.figure(figsize=(20, 20))\n",
    "plt.imshow(cnf_matrix, interpolation='nearest')\n",
    "plt.colorbar()\n",
    "tick_marks = np.arange(len(class_names))\n",
    "_ = plt.xticks(tick_marks, class_names, rotation=90)\n",
    "_ = plt.yticks(tick_marks, class_names)\n",
    "plt.show()"
   ]
  }
 ],
 "metadata": {
  "kernelspec": {
   "display_name": "Python 3",
   "language": "python",
   "name": "python3"
  },
  "language_info": {
   "codemirror_mode": {
    "name": "ipython",
    "version": 3
   },
   "file_extension": ".py",
   "mimetype": "text/x-python",
   "name": "python",
   "nbconvert_exporter": "python",
   "pygments_lexer": "ipython3",
   "version": "3.8.10"
  },
  "toc": {
   "base_numbering": 1,
   "nav_menu": {},
   "number_sections": true,
   "sideBar": true,
   "skip_h1_title": false,
   "title_cell": "Table of Contents",
   "title_sidebar": "Contents",
   "toc_cell": false,
   "toc_position": {},
   "toc_section_display": true,
   "toc_window_display": false
  },
  "varInspector": {
   "cols": {
    "lenName": 16,
    "lenType": 16,
    "lenVar": 40
   },
   "kernels_config": {
    "python": {
     "delete_cmd_postfix": "",
     "delete_cmd_prefix": "del ",
     "library": "var_list.py",
     "varRefreshCmd": "print(var_dic_list())"
    },
    "r": {
     "delete_cmd_postfix": ") ",
     "delete_cmd_prefix": "rm(",
     "library": "var_list.r",
     "varRefreshCmd": "cat(var_dic_list()) "
    }
   },
   "types_to_exclude": [
    "module",
    "function",
    "builtin_function_or_method",
    "instance",
    "_Feature"
   ],
   "window_display": false
  }
 },
 "nbformat": 4,
 "nbformat_minor": 5
}
