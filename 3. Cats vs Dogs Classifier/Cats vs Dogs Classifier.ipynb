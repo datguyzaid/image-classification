{
 "cells": [
  {
   "cell_type": "markdown",
   "id": "detailed-livestock",
   "metadata": {},
   "source": [
    "# Import Necessary Modules"
   ]
  },
  {
   "cell_type": "code",
   "execution_count": 1,
   "id": "contrary-auditor",
   "metadata": {},
   "outputs": [],
   "source": [
    "import os\n",
    "import shutil\n",
    "import numpy as np\n",
    "import matplotlib.pyplot as plt\n",
    "import cv2\n",
    "from sklearn.metrics import classification_report, confusion_matrix\n",
    "from tensorflow.keras.preprocessing import image as Image\n",
    "from tensorflow.keras.models import Sequential\n",
    "from tensorflow.keras.callbacks import ModelCheckpoint, EarlyStopping\n",
    "from tensorflow.keras.layers import Conv2D, Dense, Dropout, Flatten, MaxPooling2D\n",
    "from tensorflow.keras.optimizers import RMSprop"
   ]
  },
  {
   "cell_type": "markdown",
   "id": "forty-terrorism",
   "metadata": {},
   "source": [
    "# Prepare the 'Cats vs Dogs' Dataset\n",
    "Download the dataset from https://drive.google.com/file/d/1KWPKw5H5Ltc3D4kQlRmvEaYieMveMej8/view?usp=sharing"
   ]
  },
  {
   "cell_type": "markdown",
   "id": "italic-moral",
   "metadata": {},
   "source": [
    "## Get a List of all the Raw Images"
   ]
  },
  {
   "cell_type": "code",
   "execution_count": 2,
   "id": "elementary-engineer",
   "metadata": {},
   "outputs": [
    {
     "name": "stdout",
     "output_type": "stream",
     "text": [
      "Found 3002 images!\n"
     ]
    }
   ],
   "source": [
    "raw_image_dir = './Datasets/1. Raw/'\n",
    "raw_image_names = [image for image in os.listdir(\n",
    "    raw_image_dir) if os.path.isfile(os.path.join(raw_image_dir, image))]\n",
    "print('Found ' + str(len(raw_image_names)) + ' images!')"
   ]
  },
  {
   "cell_type": "markdown",
   "id": "preliminary-treasury",
   "metadata": {},
   "source": [
    "## Initialize Variables & Define Functions"
   ]
  },
  {
   "cell_type": "code",
   "execution_count": 3,
   "id": "constant-standard",
   "metadata": {},
   "outputs": [],
   "source": [
    "# Initialize some required variable(s)\n",
    "dog_count = 0\n",
    "cat_count = 0\n",
    "training_size = 1000\n",
    "training_images = []\n",
    "training_labels = []\n",
    "val_size = 500\n",
    "val_images = []\n",
    "val_labels = []\n",
    "image_dimensions = 150\n",
    "\n",
    "dog_train_dir = './Datasets/2. Train & Validation/Train/Dog/'\n",
    "cat_train_dir = './Datasets/2. Train & Validation/Train/Cat/'\n",
    "dog_val_dir = './Datasets/2. Train & Validation/Validation/Dog/'\n",
    "cat_val_dir = './Datasets/2. Train & Validation/Validation/Cat/'\n",
    "\n",
    "\n",
    "# Define some required function(s)\n",
    "def make_dir(directory):\n",
    "    if os.path.exists(directory):\n",
    "        shutil.rmtree(directory)\n",
    "    os.makedirs(directory)"
   ]
  },
  {
   "cell_type": "markdown",
   "id": "democratic-cache",
   "metadata": {},
   "source": [
    "## Split the Raw Dataset into Training and Validation Datasets"
   ]
  },
  {
   "cell_type": "code",
   "execution_count": 4,
   "id": "forward-water",
   "metadata": {},
   "outputs": [
    {
     "name": "stdout",
     "output_type": "stream",
     "text": [
      "Successful!\n"
     ]
    }
   ],
   "source": [
    "# -> Make training & validation directories for both of our classes\n",
    "make_dir(dog_train_dir)\n",
    "make_dir(cat_train_dir)\n",
    "make_dir(dog_val_dir)\n",
    "make_dir(cat_val_dir)\n",
    "\n",
    "# -> Split the raw dataset into training and validation) datasets\n",
    "for index, image_name in enumerate(raw_image_names):\n",
    "\n",
    "    if raw_image_names[index][0] == \"d\":\n",
    "        dog_count += 1\n",
    "        image = cv2.imread(raw_image_dir + image_name)\n",
    "        image = cv2.resize(\n",
    "            image, (image_dimensions, image_dimensions), interpolation=cv2.INTER_AREA)\n",
    "        if dog_count <= training_size:\n",
    "            training_images.append(image)\n",
    "            training_labels.append(1)\n",
    "            cv2.imwrite(dog_train_dir + \"dog_\" +\n",
    "                        str(dog_count) + \".jpg\", image)\n",
    "        if dog_count > training_size and dog_count <= (training_size + val_size):\n",
    "            val_images.append(image)\n",
    "            val_labels.append(1)\n",
    "            cv2.imwrite(dog_val_dir + \"dog_\" +\n",
    "                        str(dog_count - 1000) + \".jpg\", image)\n",
    "\n",
    "    if raw_image_names[index][0] == \"c\":\n",
    "        cat_count += 1\n",
    "        image = cv2.imread(raw_image_dir + image_name)\n",
    "        image = cv2.resize(\n",
    "            image, (image_dimensions, image_dimensions), interpolation=cv2.INTER_AREA)\n",
    "        if cat_count <= training_size:\n",
    "            training_images.append(image)\n",
    "            training_labels.append(0)\n",
    "            cv2.imwrite(cat_train_dir + \"cat_\" +\n",
    "                        str(cat_count) + \".jpg\", image)\n",
    "        if cat_count > training_size and cat_count <= (training_size + val_size):\n",
    "            val_images.append(image)\n",
    "            val_labels.append(0)\n",
    "            cv2.imwrite(cat_val_dir + \"cat_\" +\n",
    "                        str(cat_count - 1000) + \".jpg\", image)\n",
    "\n",
    "    if dog_count == (training_size + val_size) and cat_count == (training_size + val_size):\n",
    "        break\n",
    "\n",
    "print(\"Successful!\")"
   ]
  },
  {
   "cell_type": "markdown",
   "id": "continental-homework",
   "metadata": {},
   "source": [
    "## Save Our Training & Validation Datasets as NPZ files"
   ]
  },
  {
   "cell_type": "code",
   "execution_count": 5,
   "id": "previous-check",
   "metadata": {},
   "outputs": [],
   "source": [
    "# Save our training & validation datasets as NPZ files using numpy's savez function\n",
    "np.savez('./Datasets/2. Train & Validation/Train/cats_vs_dogs_training_images.npz',\n",
    "         np.array(training_images))\n",
    "np.savez('./Datasets/2. Train & Validation/Train/cats_vs_dogs_training_labels.npz',\n",
    "         np.array(training_labels))\n",
    "np.savez('./Datasets/2. Train & Validation/Validation/cats_vs_dogs_val_images.npz',\n",
    "         np.array(val_images))\n",
    "np.savez('./Datasets/2. Train & Validation/Validation/cats_vs_dogs_val_labels.npz',\n",
    "         np.array(val_labels))"
   ]
  },
  {
   "cell_type": "markdown",
   "id": "covered-happening",
   "metadata": {},
   "source": [
    "## Define the Dataset Loader Function"
   ]
  },
  {
   "cell_type": "code",
   "execution_count": 6,
   "id": "casual-chart",
   "metadata": {},
   "outputs": [],
   "source": [
    "def load_dataset():\n",
    "\n",
    "    npzfile = np.load(\n",
    "        './Datasets/2. Train & Validation/Train/cats_vs_dogs_training_images.npz')\n",
    "    train_images = npzfile['arr_0']\n",
    "\n",
    "    npzfile = np.load(\n",
    "        './Datasets/2. Train & Validation/Train/cats_vs_dogs_training_labels.npz')\n",
    "    train_labels = npzfile['arr_0']\n",
    "\n",
    "    npzfile = np.load(\n",
    "        './Datasets/2. Train & Validation/Validation/cats_vs_dogs_val_images.npz')\n",
    "    val_images = npzfile['arr_0']\n",
    "\n",
    "    npzfile = np.load(\n",
    "        './Datasets/2. Train & Validation/Validation/cats_vs_dogs_val_labels.npz')\n",
    "    val_labels = npzfile['arr_0']\n",
    "\n",
    "    return (train_images, train_labels), (val_images, val_labels)"
   ]
  },
  {
   "cell_type": "markdown",
   "id": "medium-underwear",
   "metadata": {},
   "source": [
    "# Load the 'Cats vs Dogs' Dataset & Examine it"
   ]
  },
  {
   "cell_type": "code",
   "execution_count": 7,
   "id": "alternative-government",
   "metadata": {},
   "outputs": [
    {
     "name": "stdout",
     "output_type": "stream",
     "text": [
      "Number of samples in our training data: 2000\n",
      "Number of labels in our training data: 2000\n",
      "Number of samples in our val data: 1000\n",
      "Number of labels in our val data: 1000\n",
      "\n",
      "Dimensions of x_train: (2000, 150, 150, 3)\n",
      "Dimensions of x_val: (1000, 150, 150, 3)\n"
     ]
    }
   ],
   "source": [
    "(x_train, y_train), (x_val, y_val) = load_dataset()\n",
    "\n",
    "# Some print statements to examine the dataset we have\n",
    "print(\"Number of samples in our training data: \" + str(len(x_train)))\n",
    "print(\"Number of labels in our training data: \" + str(len(y_train)))\n",
    "print(\"Number of samples in our val data: \" + str(len(x_val)))\n",
    "print(\"Number of labels in our val data: \" + str(len(y_val)))\n",
    "print()\n",
    "print(\"Dimensions of x_train: \" + str(x_train.shape))\n",
    "print(\"Dimensions of x_val: \" + str(x_val.shape))"
   ]
  },
  {
   "cell_type": "markdown",
   "id": "catholic-slope",
   "metadata": {},
   "source": [
    "# Preprocessing Our Dataset"
   ]
  },
  {
   "cell_type": "markdown",
   "id": "incomplete-practitioner",
   "metadata": {},
   "source": [
    "## Preprocessing our image datasets i.e x_train & x_val"
   ]
  },
  {
   "cell_type": "code",
   "execution_count": 8,
   "id": "intense-delta",
   "metadata": {},
   "outputs": [],
   "source": [
    "# Change our image data type to float32 data type\n",
    "x_train = x_train.astype('float32')\n",
    "x_val = x_val.astype('float32')\n",
    "\n",
    "# Normalize our data by changing the range from (0 to 255) to (0 to 1)\n",
    "x_train /= 255\n",
    "x_val /= 255"
   ]
  },
  {
   "cell_type": "markdown",
   "id": "considered-glance",
   "metadata": {},
   "source": [
    "## Preprocessing our label datasets i.e y_train & y_val"
   ]
  },
  {
   "cell_type": "code",
   "execution_count": 9,
   "id": "working-regulation",
   "metadata": {},
   "outputs": [],
   "source": [
    "# Reshaping our label datasets and val data\n",
    "y_train = y_train.reshape(y_train.shape[0], 1)\n",
    "y_val = y_val.reshape(y_val.shape[0], 1)"
   ]
  },
  {
   "cell_type": "markdown",
   "id": "ranging-excuse",
   "metadata": {},
   "source": [
    "# Build a Baseline Model"
   ]
  },
  {
   "cell_type": "markdown",
   "id": "innovative-fields",
   "metadata": {},
   "source": [
    "## Create the Model"
   ]
  },
  {
   "cell_type": "code",
   "execution_count": 10,
   "id": "fancy-negotiation",
   "metadata": {},
   "outputs": [
    {
     "name": "stdout",
     "output_type": "stream",
     "text": [
      "Model: \"sequential\"\n",
      "_________________________________________________________________\n",
      "Layer (type)                 Output Shape              Param #   \n",
      "=================================================================\n",
      "conv2d (Conv2D)              (None, 150, 150, 32)      896       \n",
      "_________________________________________________________________\n",
      "max_pooling2d (MaxPooling2D) (None, 75, 75, 32)        0         \n",
      "_________________________________________________________________\n",
      "conv2d_1 (Conv2D)            (None, 75, 75, 64)        18496     \n",
      "_________________________________________________________________\n",
      "max_pooling2d_1 (MaxPooling2 (None, 37, 37, 64)        0         \n",
      "_________________________________________________________________\n",
      "conv2d_2 (Conv2D)            (None, 37, 37, 128)       73856     \n",
      "_________________________________________________________________\n",
      "max_pooling2d_2 (MaxPooling2 (None, 18, 18, 128)       0         \n",
      "_________________________________________________________________\n",
      "flatten (Flatten)            (None, 41472)             0         \n",
      "_________________________________________________________________\n",
      "dense (Dense)                (None, 256)               10617088  \n",
      "_________________________________________________________________\n",
      "dropout (Dropout)            (None, 256)               0         \n",
      "_________________________________________________________________\n",
      "dense_1 (Dense)              (None, 1)                 257       \n",
      "=================================================================\n",
      "Total params: 10,710,593\n",
      "Trainable params: 10,710,593\n",
      "Non-trainable params: 0\n",
      "_________________________________________________________________\n",
      "None\n"
     ]
    }
   ],
   "source": [
    "# Initalize the model using Sequential class from Keras\n",
    "model1 = Sequential()\n",
    "# Add first convolutional layer\n",
    "model1.add(Conv2D(filters=32, kernel_size=(3, 3), activation='relu',\n",
    "                  input_shape=(150, 150, 3), padding=\"same\"))\n",
    "# Add a pooling layer which will downsample our data\n",
    "model1.add(MaxPooling2D(pool_size=(2, 2)))\n",
    "# Add 2nd convolutional layer\n",
    "model1.add(Conv2D(filters=64, kernel_size=(3, 3),\n",
    "                  activation='relu', padding=\"same\"))\n",
    "# Add a pooling layer which will downsample our data\n",
    "model1.add(MaxPooling2D(pool_size=(2, 2)))\n",
    "# Add 3rd convolutional layer\n",
    "model1.add(Conv2D(filters=128, kernel_size=(\n",
    "    3, 3), activation='relu', padding=\"same\"))\n",
    "# Add a pooling layer which will downsample our data\n",
    "model1.add(MaxPooling2D(pool_size=(2, 2)))\n",
    "# Add a flatten layer which will aid in flattening the input\n",
    "model1.add(Flatten())\n",
    "# Add a dense/FC layer\n",
    "model1.add(Dense(units=256, activation='relu'))\n",
    "# Add a droput layer which will aid in regularization\n",
    "model1.add(Dropout(0.5))\n",
    "# Add a dense/FC layer\n",
    "model1.add(Dense(units=1, activation='sigmoid'))\n",
    "# Compile the model\n",
    "model1.compile(loss='binary_crossentropy',\n",
    "               optimizer=RMSprop(),\n",
    "               metrics=['accuracy'])\n",
    "# Print a summary of our model\n",
    "print(model1.summary())"
   ]
  },
  {
   "cell_type": "markdown",
   "id": "following-antigua",
   "metadata": {},
   "source": [
    "## Define Callbacks"
   ]
  },
  {
   "cell_type": "code",
   "execution_count": 11,
   "id": "surprising-textbook",
   "metadata": {},
   "outputs": [],
   "source": [
    "# Define a callback for saving only the best model during the training\n",
    "checkpoint = ModelCheckpoint(filepath=\"./Trained Models/cats_vs_dogs_classifier.h5\",\n",
    "                             monitor='val_accuracy',\n",
    "                             mode='max',\n",
    "                             save_best_only=True,\n",
    "                             verbose=1)\n",
    "\n",
    "# Define a callback to stop training when validation accuracy has stopped increasing\n",
    "earlystop = EarlyStopping(monitor='val_accuracy',\n",
    "                          mode='max',\n",
    "                          patience=3,\n",
    "                          restore_best_weights=True,\n",
    "                          verbose=1)\n",
    "\n",
    "# Put our callbacks into a list\n",
    "callbacks = [earlystop, checkpoint]"
   ]
  },
  {
   "cell_type": "markdown",
   "id": "copyrighted-receptor",
   "metadata": {},
   "source": [
    "# Train the Baseline Model"
   ]
  },
  {
   "cell_type": "code",
   "execution_count": 12,
   "id": "quiet-retrieval",
   "metadata": {},
   "outputs": [
    {
     "name": "stdout",
     "output_type": "stream",
     "text": [
      "Epoch 1/100\n",
      " 2/63 [..............................] - ETA: 1s - loss: 14.0584 - accuracy: 0.3906WARNING:tensorflow:Callbacks method `on_train_batch_end` is slow compared to the batch time (batch time: 0.0190s vs `on_train_batch_end` time: 0.0399s). Check your callbacks.\n",
      "63/63 [==============================] - ETA: 0s - loss: 1.1518 - accuracy: 0.5210\n",
      "Epoch 00001: val_accuracy improved from -inf to 0.50000, saving model to ./Trained Models\\cats_vs_dogs_classifier.h5\n",
      "63/63 [==============================] - 5s 78ms/step - loss: 1.1518 - accuracy: 0.5210 - val_loss: 0.8735 - val_accuracy: 0.5000\n",
      "Epoch 2/100\n",
      "62/63 [============================>.] - ETA: 0s - loss: 0.6992 - accuracy: 0.5660\n",
      "Epoch 00002: val_accuracy improved from 0.50000 to 0.54800, saving model to ./Trained Models\\cats_vs_dogs_classifier.h5\n",
      "63/63 [==============================] - 4s 69ms/step - loss: 0.6982 - accuracy: 0.5675 - val_loss: 0.7428 - val_accuracy: 0.5480\n",
      "Epoch 3/100\n",
      "62/63 [============================>.] - ETA: 0s - loss: 0.6555 - accuracy: 0.6447\n",
      "Epoch 00003: val_accuracy improved from 0.54800 to 0.60400, saving model to ./Trained Models\\cats_vs_dogs_classifier.h5\n",
      "63/63 [==============================] - 5s 72ms/step - loss: 0.6549 - accuracy: 0.6455 - val_loss: 0.6712 - val_accuracy: 0.6040\n",
      "Epoch 4/100\n",
      "62/63 [============================>.] - ETA: 0s - loss: 0.5822 - accuracy: 0.7031\n",
      "Epoch 00004: val_accuracy improved from 0.60400 to 0.68600, saving model to ./Trained Models\\cats_vs_dogs_classifier.h5\n",
      "63/63 [==============================] - 4s 69ms/step - loss: 0.5815 - accuracy: 0.7040 - val_loss: 0.6412 - val_accuracy: 0.6860\n",
      "Epoch 5/100\n",
      "62/63 [============================>.] - ETA: 0s - loss: 0.5324 - accuracy: 0.7379\n",
      "Epoch 00005: val_accuracy did not improve from 0.68600\n",
      "63/63 [==============================] - 4s 65ms/step - loss: 0.5311 - accuracy: 0.7385 - val_loss: 0.7809 - val_accuracy: 0.5850\n",
      "Epoch 6/100\n",
      "62/63 [============================>.] - ETA: 0s - loss: 0.4856 - accuracy: 0.7757\n",
      "Epoch 00006: val_accuracy did not improve from 0.68600\n",
      "63/63 [==============================] - 4s 65ms/step - loss: 0.4844 - accuracy: 0.7765 - val_loss: 0.7621 - val_accuracy: 0.6600\n",
      "Epoch 7/100\n",
      "62/63 [============================>.] - ETA: 0s - loss: 0.4113 - accuracy: 0.8065 ETA: 0s - loss: 0.4138 - accuracy: 0.80\n",
      "Epoch 00007: val_accuracy improved from 0.68600 to 0.73100, saving model to ./Trained Models\\cats_vs_dogs_classifier.h5\n",
      "63/63 [==============================] - 4s 70ms/step - loss: 0.4101 - accuracy: 0.8075 - val_loss: 0.6278 - val_accuracy: 0.7310\n",
      "Epoch 8/100\n",
      "62/63 [============================>.] - ETA: 0s - loss: 0.3514 - accuracy: 0.8432 ETA: \n",
      "Epoch 00008: val_accuracy did not improve from 0.73100\n",
      "63/63 [==============================] - 4s 65ms/step - loss: 0.3501 - accuracy: 0.8435 - val_loss: 0.6825 - val_accuracy: 0.7230\n",
      "Epoch 9/100\n",
      "62/63 [============================>.] - ETA: 0s - loss: 0.2955 - accuracy: 0.8780\n",
      "Epoch 00009: val_accuracy did not improve from 0.73100\n",
      "63/63 [==============================] - 4s 66ms/step - loss: 0.2967 - accuracy: 0.8775 - val_loss: 0.6568 - val_accuracy: 0.7150\n",
      "Epoch 10/100\n",
      "62/63 [============================>.] - ETA: 0s - loss: 0.2309 - accuracy: 0.9052 ETA: 0s - loss: 0.220Restoring model weights from the end of the best epoch.\n",
      "\n",
      "Epoch 00010: val_accuracy did not improve from 0.73100\n",
      "63/63 [==============================] - 4s 66ms/step - loss: 0.2310 - accuracy: 0.9050 - val_loss: 0.8839 - val_accuracy: 0.6890\n",
      "Epoch 00010: early stopping\n"
     ]
    }
   ],
   "source": [
    "batch_size = 32\n",
    "\n",
    "# Train our model and store the training results in a variable\n",
    "model1_train_result = model1.fit(x=x_train,\n",
    "                                 y=y_train,\n",
    "                                 batch_size=batch_size,\n",
    "                                 epochs=100,\n",
    "                                 callbacks=callbacks,\n",
    "                                 validation_data=(x_val, y_val))"
   ]
  },
  {
   "cell_type": "markdown",
   "id": "loving-printer",
   "metadata": {},
   "source": [
    "# Build a New Model Which Utilizes Data Augmentation"
   ]
  },
  {
   "cell_type": "markdown",
   "id": "healthy-anxiety",
   "metadata": {},
   "source": [
    "## Create a ImageDataGenerator Object"
   ]
  },
  {
   "cell_type": "code",
   "execution_count": 13,
   "id": "introductory-tunnel",
   "metadata": {},
   "outputs": [],
   "source": [
    "datagen = Image.ImageDataGenerator(\n",
    "    rotation_range=20,\n",
    "    width_shift_range=0.3,\n",
    "    height_shift_range=0.3,\n",
    "    shear_range=0.2,\n",
    "    zoom_range=0.2,\n",
    "    horizontal_flip=True,\n",
    "    dtype='float32')"
   ]
  },
  {
   "cell_type": "markdown",
   "id": "individual-wallace",
   "metadata": {},
   "source": [
    "## Create the Model "
   ]
  },
  {
   "cell_type": "code",
   "execution_count": 14,
   "id": "based-honor",
   "metadata": {},
   "outputs": [
    {
     "name": "stdout",
     "output_type": "stream",
     "text": [
      "Model: \"sequential_1\"\n",
      "_________________________________________________________________\n",
      "Layer (type)                 Output Shape              Param #   \n",
      "=================================================================\n",
      "conv2d_3 (Conv2D)            (None, 150, 150, 32)      896       \n",
      "_________________________________________________________________\n",
      "max_pooling2d_3 (MaxPooling2 (None, 75, 75, 32)        0         \n",
      "_________________________________________________________________\n",
      "conv2d_4 (Conv2D)            (None, 75, 75, 64)        18496     \n",
      "_________________________________________________________________\n",
      "max_pooling2d_4 (MaxPooling2 (None, 37, 37, 64)        0         \n",
      "_________________________________________________________________\n",
      "conv2d_5 (Conv2D)            (None, 37, 37, 128)       73856     \n",
      "_________________________________________________________________\n",
      "max_pooling2d_5 (MaxPooling2 (None, 18, 18, 128)       0         \n",
      "_________________________________________________________________\n",
      "flatten_1 (Flatten)          (None, 41472)             0         \n",
      "_________________________________________________________________\n",
      "dense_2 (Dense)              (None, 256)               10617088  \n",
      "_________________________________________________________________\n",
      "dropout_1 (Dropout)          (None, 256)               0         \n",
      "_________________________________________________________________\n",
      "dense_3 (Dense)              (None, 1)                 257       \n",
      "=================================================================\n",
      "Total params: 10,710,593\n",
      "Trainable params: 10,710,593\n",
      "Non-trainable params: 0\n",
      "_________________________________________________________________\n",
      "None\n"
     ]
    }
   ],
   "source": [
    "# Initalize the model using Sequential class from Keras\n",
    "model2 = Sequential()\n",
    "# Add first convolutional layer\n",
    "model2.add(Conv2D(filters=32, kernel_size=(3, 3), activation='relu',\n",
    "                  input_shape=(150, 150, 3), padding=\"same\"))\n",
    "# Add a pooling layer which will downsample our data\n",
    "model2.add(MaxPooling2D(pool_size=(2, 2)))\n",
    "# Add 2nd convolutional layer\n",
    "model2.add(Conv2D(filters=64, kernel_size=(3, 3),\n",
    "                  activation='relu', padding=\"same\"))\n",
    "# Add a pooling layer which will downsample our data\n",
    "model2.add(MaxPooling2D(pool_size=(2, 2)))\n",
    "# Add 3rd convolutional layer\n",
    "model2.add(Conv2D(filters=128, kernel_size=(\n",
    "    3, 3), activation='relu', padding=\"same\"))\n",
    "# Add a pooling layer which will downsample our data\n",
    "model2.add(MaxPooling2D(pool_size=(2, 2)))\n",
    "# Add a flatten layer which will aid in flattening the input\n",
    "model2.add(Flatten())\n",
    "# Add a dense/FC layer\n",
    "model2.add(Dense(units=256, activation='relu'))\n",
    "# Add a droput layer which will aid in regularization\n",
    "model2.add(Dropout(0.5))\n",
    "# Add a dense/FC layer\n",
    "model2.add(Dense(units=1, activation='sigmoid'))\n",
    "# Compile the model\n",
    "model2.compile(loss='binary_crossentropy',\n",
    "               optimizer=RMSprop(),\n",
    "               metrics=['accuracy'])\n",
    "# Print a summary of our model\n",
    "print(model2.summary())"
   ]
  },
  {
   "cell_type": "markdown",
   "id": "noble-cooling",
   "metadata": {},
   "source": [
    "# Train the New Model While Performing Real-Time Data Augmentation on Training Dataset"
   ]
  },
  {
   "cell_type": "code",
   "execution_count": 15,
   "id": "spread-radical",
   "metadata": {},
   "outputs": [
    {
     "name": "stdout",
     "output_type": "stream",
     "text": [
      "Epoch 1/100\n",
      "62/62 [==============================] - ETA: 0s - loss: 0.8355 - accuracy: 0.5122\n",
      "Epoch 00001: val_accuracy did not improve from 0.73100\n",
      "62/62 [==============================] - 10s 159ms/step - loss: 0.8355 - accuracy: 0.5122 - val_loss: 0.6731 - val_accuracy: 0.5550\n",
      "Epoch 2/100\n",
      "62/62 [==============================] - ETA: 0s - loss: 0.6884 - accuracy: 0.5539\n",
      "Epoch 00002: val_accuracy did not improve from 0.73100\n",
      "62/62 [==============================] - 10s 158ms/step - loss: 0.6884 - accuracy: 0.5539 - val_loss: 0.6915 - val_accuracy: 0.5300\n",
      "Epoch 3/100\n",
      "62/62 [==============================] - ETA: 0s - loss: 0.6669 - accuracy: 0.5777\n",
      "Epoch 00003: val_accuracy did not improve from 0.73100\n",
      "62/62 [==============================] - 10s 161ms/step - loss: 0.6669 - accuracy: 0.5777 - val_loss: 0.6586 - val_accuracy: 0.6060\n",
      "Epoch 4/100\n",
      "62/62 [==============================] - ETA: 0s - loss: 0.6677 - accuracy: 0.5996\n",
      "Epoch 00004: val_accuracy did not improve from 0.73100\n",
      "62/62 [==============================] - 10s 162ms/step - loss: 0.6677 - accuracy: 0.5996 - val_loss: 0.6474 - val_accuracy: 0.6020\n",
      "Epoch 5/100\n",
      "62/62 [==============================] - ETA: 0s - loss: 0.6544 - accuracy: 0.6067\n",
      "Epoch 00005: val_accuracy did not improve from 0.73100\n",
      "62/62 [==============================] - 10s 164ms/step - loss: 0.6544 - accuracy: 0.6067 - val_loss: 0.6589 - val_accuracy: 0.6070\n",
      "Epoch 6/100\n",
      "62/62 [==============================] - ETA: 0s - loss: 0.6443 - accuracy: 0.6250\n",
      "Epoch 00006: val_accuracy did not improve from 0.73100\n",
      "62/62 [==============================] - 10s 166ms/step - loss: 0.6443 - accuracy: 0.6250 - val_loss: 0.6340 - val_accuracy: 0.6330\n",
      "Epoch 7/100\n",
      "62/62 [==============================] - ETA: 0s - loss: 0.6433 - accuracy: 0.6443 ETA: 0s - loss: 0.6435 - accuracy\n",
      "Epoch 00007: val_accuracy did not improve from 0.73100\n",
      "62/62 [==============================] - 10s 168ms/step - loss: 0.6433 - accuracy: 0.6443 - val_loss: 0.6887 - val_accuracy: 0.5630\n",
      "Epoch 8/100\n",
      "62/62 [==============================] - ETA: 0s - loss: 0.6252 - accuracy: 0.6509\n",
      "Epoch 00008: val_accuracy did not improve from 0.73100\n",
      "62/62 [==============================] - 10s 166ms/step - loss: 0.6252 - accuracy: 0.6509 - val_loss: 0.6748 - val_accuracy: 0.6270\n",
      "Epoch 9/100\n",
      "62/62 [==============================] - ETA: 0s - loss: 0.6306 - accuracy: 0.6433\n",
      "Epoch 00009: val_accuracy did not improve from 0.73100\n",
      "62/62 [==============================] - 11s 170ms/step - loss: 0.6306 - accuracy: 0.6433 - val_loss: 0.5867 - val_accuracy: 0.6910\n",
      "Epoch 10/100\n",
      "62/62 [==============================] - ETA: 0s - loss: 0.6153 - accuracy: 0.6723\n",
      "Epoch 00010: val_accuracy did not improve from 0.73100\n",
      "62/62 [==============================] - 10s 169ms/step - loss: 0.6153 - accuracy: 0.6723 - val_loss: 0.5936 - val_accuracy: 0.6760\n",
      "Epoch 11/100\n",
      "62/62 [==============================] - ETA: 0s - loss: 0.6196 - accuracy: 0.6590\n",
      "Epoch 00011: val_accuracy did not improve from 0.73100\n",
      "62/62 [==============================] - 10s 169ms/step - loss: 0.6196 - accuracy: 0.6590 - val_loss: 0.5676 - val_accuracy: 0.7270\n",
      "Epoch 12/100\n",
      "62/62 [==============================] - ETA: 0s - loss: 0.6141 - accuracy: 0.6789 ETA: 1s - loss: 0.6\n",
      "Epoch 00012: val_accuracy did not improve from 0.73100\n",
      "62/62 [==============================] - 10s 169ms/step - loss: 0.6141 - accuracy: 0.6789 - val_loss: 0.6100 - val_accuracy: 0.6690\n",
      "Epoch 13/100\n",
      "62/62 [==============================] - ETA: 0s - loss: 0.6068 - accuracy: 0.6687 ETA: 0s - loss: 0.6043 - accu\n",
      "Epoch 00013: val_accuracy did not improve from 0.73100\n",
      "62/62 [==============================] - 11s 172ms/step - loss: 0.6068 - accuracy: 0.6687 - val_loss: 0.6629 - val_accuracy: 0.6170\n",
      "Epoch 14/100\n",
      "62/62 [==============================] - ETA: 0s - loss: 0.5867 - accuracy: 0.6860Restoring model weights from the end of the best epoch.\n",
      "\n",
      "Epoch 00014: val_accuracy did not improve from 0.73100\n",
      "62/62 [==============================] - 11s 170ms/step - loss: 0.5867 - accuracy: 0.6860 - val_loss: 0.6347 - val_accuracy: 0.6830\n",
      "Epoch 00014: early stopping\n"
     ]
    }
   ],
   "source": [
    "batch_size = 32\n",
    "\n",
    "# Train our model and store the training results in a variable\n",
    "model2_train_result = model2.fit(datagen.flow(x=x_train, y=y_train, batch_size=batch_size),\n",
    "                                 steps_per_epoch=len(x_train) // 32,\n",
    "                                 epochs=100,\n",
    "                                 callbacks=callbacks,\n",
    "                                 validation_data=(x_val, y_val))"
   ]
  },
  {
   "cell_type": "markdown",
   "id": "careful-middle",
   "metadata": {},
   "source": [
    "# Evaluate New Model's Performance"
   ]
  },
  {
   "cell_type": "markdown",
   "id": "visible-reason",
   "metadata": {},
   "source": [
    "## Loss & Accuracy Charts"
   ]
  },
  {
   "cell_type": "markdown",
   "id": "synthetic-river",
   "metadata": {},
   "source": [
    "### Loss Chart"
   ]
  },
  {
   "cell_type": "code",
   "execution_count": 16,
   "id": "hearing-department",
   "metadata": {},
   "outputs": [
    {
     "data": {
      "image/png": "[encoded data removed]",
      "text/plain": [
       "<Figure size 432x288 with 1 Axes>"
      ]
     },
     "metadata": {
      "needs_background": "light"
     },
     "output_type": "display_data"
    }
   ],
   "source": [
    "history_dict = model2_train_result.history\n",
    "\n",
    "loss_values = history_dict['loss']\n",
    "val_loss_values = history_dict['val_loss']\n",
    "epochs = range(1, len(loss_values) + 1)\n",
    "\n",
    "line1 = plt.plot(epochs, val_loss_values, label='Validation/Test Loss')\n",
    "line2 = plt.plot(epochs, loss_values, label='Training Loss')\n",
    "plt.setp(line1, linewidth=2.0, marker='+', markersize=10.0)\n",
    "plt.setp(line2, linewidth=2.0, marker='4', markersize=10.0)\n",
    "plt.xlabel('Epochs')\n",
    "plt.ylabel('Loss')\n",
    "plt.grid(True)\n",
    "plt.legend()\n",
    "plt.show()"
   ]
  },
  {
   "cell_type": "markdown",
   "id": "manufactured-venture",
   "metadata": {},
   "source": [
    "### Accuracy Chart"
   ]
  },
  {
   "cell_type": "code",
   "execution_count": 17,
   "id": "interim-decline",
   "metadata": {},
   "outputs": [
    {
     "data": {
      "image/png": "[encoded data removed]",
      "text/plain": [
       "<Figure size 432x288 with 1 Axes>"
      ]
     },
     "metadata": {
      "needs_background": "light"
     },
     "output_type": "display_data"
    }
   ],
   "source": [
    "history_dict = model2_train_result.history\n",
    "\n",
    "acc_values = history_dict['accuracy']\n",
    "val_acc_values = history_dict['val_accuracy']\n",
    "epochs = range(1, len(loss_values) + 1)\n",
    "\n",
    "line1 = plt.plot(epochs, val_acc_values, label='Validation/Test Accuracy')\n",
    "line2 = plt.plot(epochs, acc_values, label='Training Accuracy')\n",
    "plt.setp(line1, linewidth=2.0, marker='+', markersize=10.0)\n",
    "plt.setp(line2, linewidth=2.0, marker='4', markersize=10.0)\n",
    "plt.xlabel('Epochs')\n",
    "plt.ylabel('Accuracy')\n",
    "plt.grid(True)\n",
    "plt.legend()\n",
    "plt.show()"
   ]
  },
  {
   "cell_type": "markdown",
   "id": "occupied-frank",
   "metadata": {},
   "source": [
    "## Classification Report for Validation Dataset"
   ]
  },
  {
   "cell_type": "code",
   "execution_count": 18,
   "id": "plain-vocabulary",
   "metadata": {},
   "outputs": [
    {
     "name": "stdout",
     "output_type": "stream",
     "text": [
      "              precision    recall  f1-score   support\n",
      "\n",
      "         Cat       0.70      0.78      0.74       500\n",
      "         Dog       0.76      0.67      0.71       500\n",
      "\n",
      "    accuracy                           0.73      1000\n",
      "   macro avg       0.73      0.73      0.73      1000\n",
      "weighted avg       0.73      0.73      0.73      1000\n",
      "\n"
     ]
    }
   ],
   "source": [
    "# Get model's predictions for each image in validation dataset\n",
    "val_pred = model2.predict(x_val, batch_size=batch_size)\n",
    "val_pred = val_pred.round()\n",
    "\n",
    "# Get class names\n",
    "class_names = np.array(['Cat', 'Dog'])\n",
    "\n",
    "# Get the classification report generated for validation dataset\n",
    "print(classification_report(y_true=y_val,\n",
    "                            y_pred=val_pred, target_names=class_names))"
   ]
  },
  {
   "cell_type": "markdown",
   "id": "smart-moore",
   "metadata": {},
   "source": [
    "## Confusion Matrix for Validation Dataset"
   ]
  },
  {
   "cell_type": "code",
   "execution_count": 19,
   "id": "mathematical-floor",
   "metadata": {},
   "outputs": [
    {
     "data": {
      "image/png": "[encoded data removed]",
      "text/plain": [
       "<Figure size 1440x1440 with 2 Axes>"
      ]
     },
     "metadata": {
      "needs_background": "light"
     },
     "output_type": "display_data"
    }
   ],
   "source": [
    "# Generate the confusion matrix for validation dataset\n",
    "cnf_matrix = confusion_matrix(y_true=y_val, y_pred=val_pred)\n",
    "\n",
    "# Display the confusion matrix\n",
    "plt.figure(figsize=(20, 20))\n",
    "plt.imshow(cnf_matrix, interpolation='nearest')\n",
    "plt.colorbar()\n",
    "tick_marks = np.arange(len(class_names))\n",
    "_ = plt.xticks(tick_marks, class_names, rotation=90)\n",
    "_ = plt.yticks(tick_marks, class_names)"
   ]
  }
 ],
 "metadata": {
  "kernelspec": {
   "display_name": "Python 3",
   "language": "python",
   "name": "python3"
  },
  "language_info": {
   "codemirror_mode": {
    "name": "ipython",
    "version": 3
   },
   "file_extension": ".py",
   "mimetype": "text/x-python",
   "name": "python",
   "nbconvert_exporter": "python",
   "pygments_lexer": "ipython3",
   "version": "3.7.10"
  },
  "toc": {
   "base_numbering": 1,
   "nav_menu": {},
   "number_sections": true,
   "sideBar": true,
   "skip_h1_title": false,
   "title_cell": "Table of Contents",
   "title_sidebar": "Contents",
   "toc_cell": false,
   "toc_position": {
    "height": "calc(100% - 180px)",
    "left": "10px",
    "top": "150px",
    "width": "426.667px"
   },
   "toc_section_display": true,
   "toc_window_display": false
  },
  "varInspector": {
   "cols": {
    "lenName": 16,
    "lenType": 16,
    "lenVar": 40
   },
   "kernels_config": {
    "python": {
     "delete_cmd_postfix": "",
     "delete_cmd_prefix": "del ",
     "library": "var_list.py",
     "varRefreshCmd": "print(var_dic_list())"
    },
    "r": {
     "delete_cmd_postfix": ") ",
     "delete_cmd_prefix": "rm(",
     "library": "var_list.r",
     "varRefreshCmd": "cat(var_dic_list()) "
    }
   },
   "position": {
    "height": "843.75px",
    "left": "1763.33px",
    "right": "20px",
    "top": "119.993px",
    "width": "347.778px"
   },
   "types_to_exclude": [
    "module",
    "function",
    "builtin_function_or_method",
    "instance",
    "_Feature"
   ],
   "window_display": false
  }
 },
 "nbformat": 4,
 "nbformat_minor": 5
}
